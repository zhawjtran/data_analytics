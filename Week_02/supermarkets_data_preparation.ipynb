{
    "cells": [
     {
      "cell_type": "markdown",
      "id": "3272230e",
      "metadata": {},
      "source": [
       "# Importing and preparing supermarkets data"
      ]
     },
     {
      "cell_type": "markdown",
      "id": "abe67fc9",
      "metadata": {},
      "source": [
       "## Libraries and settings"
      ]
     },
     {
      "cell_type": "code",
      "execution_count": null,
      "id": "cbff58c8",
      "metadata": {},
      "outputs": [],
      "source": [
       "# Libraries\n",
       "import os\n",
       "import fnmatch\n",
       "import pandas as pd\n",
       "\n",
       "# Ignore warnings\n",
       "import warnings\n",
       "warnings.filterwarnings(\"ignore\")\n",
       "\n",
       "# Get current working directory\n",
       "print('Current working directory:', os.getcwd())\n",
       "\n",
       "# Show .json files in the current working directory\n",
       "flist = fnmatch.filter(os.listdir('.'), '*.json')\n",
       "for i in flist:\n",
       "    print(i)"
      ]
     },
     {
      "cell_type": "markdown",
      "id": "2a7bff4a",
      "metadata": {},
      "source": [
       "## Importing data"
      ]
     },
     {
      "cell_type": "code",
      "execution_count": null,
      "id": "aa8f37dd",
      "metadata": {
       "scrolled": true
      },
      "outputs": [],
      "source": [
       "# Read the data to a pandas data frame\n",
       "df1 = pd.read_json('supermarkets.json', encoding='utf-8')\n",
       "df1.head(5)"
      ]
     },
     {
      "cell_type": "markdown",
      "id": "b95e9f0e",
      "metadata": {},
      "source": [
       "## Count number of rows and columns in the data frame"
      ]
     },
     {
      "cell_type": "code",
      "execution_count": null,
      "id": "ec7391ad",
      "metadata": {},
      "outputs": [],
      "source": [
       "# Dimension (rows, columns)\n",
       "print('Dimension:', df1.shape)\n",
       "\n",
       "# Number of rows\n",
       "print('Number of rows:', df1.shape[0])\n",
       "\n",
       "# Number of columns\n",
       "print('Number of columns:', df1.shape[1])"
      ]
     },
     {
      "cell_type": "markdown",
      "id": "e87e78e7",
      "metadata": {},
      "source": [
       "## Column 'tags' is a pandas Series with dictionaries -> change to data frame"
      ]
     },
     {
      "cell_type": "code",
      "execution_count": null,
      "id": "b4aacf01",
      "metadata": {},
      "outputs": [],
      "source": [
       "# Type of the first item of column tags\n",
       "print(type(df1.tags))\n",
       "print(type(df1.tags[0]))\n",
       "\n",
       "# Content of the first item of column tags\n",
       "print(df1.tags[0].keys())\n",
       "\n",
       "# Change to data frame\n",
       "df2 = pd.DataFrame.from_records(df1.tags)\n",
       "df2 = df2[['brand', 'shop', 'addr:city', 'addr:street', 'addr:housenumber', 'addr:postcode']]\n",
       "\n",
       "# Rename selected columns\n",
       "df2 = df2.rename(columns={'addr:city': 'city',\n",
       "                          'addr:street':'street',\n",
       "                          'addr:housenumber': 'housenumber',\n",
       "                          'addr:postcode': 'postcode'})\n",
       "\n",
       "# Show first records of data frame\n",
       "df2.head()"
      ]
     },
     {
      "cell_type": "markdown",
      "id": "e801ae61",
      "metadata": {},
      "source": [
       "## Merge df1 and df2"
      ]
     },
     {
      "cell_type": "code",
      "execution_count": null,
      "id": "0a78ba35",
      "metadata": {},
      "outputs": [],
      "source": [
       "# Merge df and df2\n",
       "df = pd.merge(df1[['type', 'id', 'lat', 'lon']], \n",
       "              df2[['brand', 'shop', 'city', 'street', 'housenumber', 'postcode']],\n",
       "              left_index=True, \n",
       "              right_index=True)\n",
       "df.head(5)"
      ]
     },
     {
      "cell_type": "markdown",
      "id": "621b8ae9",
      "metadata": {},
      "source": [
       "## Count and identify the number of missing values (if any)"
      ]
     },
     {
      "cell_type": "code",
      "execution_count": null,
      "id": "67773d99",
      "metadata": {},
      "outputs": [],
      "source": [
       "# Count missing values\n",
       "print(pd.isna(df).sum())\n",
       "\n",
       "# Identify rows with missing values, e.g.:\n",
       "df.loc[pd.isna(df['city'])]"
      ]
     },
     {
      "cell_type": "markdown",
      "id": "240063a9",
      "metadata": {},
      "source": [
       "## Count and identify duplicated values (if any)"
      ]
     },
     {
      "cell_type": "code",
      "execution_count": null,
      "id": "5329c099",
      "metadata": {},
      "outputs": [],
      "source": [
       "# Count duplicated values\n",
       "print(df.duplicated().sum())\n",
       "\n",
       "# Identify rows with duplicated values, e.g.:\n",
       "df[df[['id']].duplicated()]"
      ]
     },
     {
      "cell_type": "markdown",
      "id": "ace6d22c",
      "metadata": {},
      "source": [
       "## Get data types of all variables"
      ]
     },
     {
      "cell_type": "code",
      "execution_count": null,
      "id": "dd9244a5",
      "metadata": {},
      "outputs": [],
      "source": [
       "# Get data types (note that in pandas, a string is referred to as 'object')\n",
       "df.dtypes"
      ]
     },
     {
      "cell_type": "markdown",
      "id": "165f8f9f",
      "metadata": {},
      "source": [
       "### Save data to file"
      ]
     },
     {
      "cell_type": "code",
      "execution_count": null,
      "id": "3c2773d3",
      "metadata": {},
      "outputs": [],
      "source": [
       "df.to_csv('supermarkets_data_prepared.csv', \n",
       "          sep=\",\", \n",
       "          encoding='utf-8',\n",
       "          index=False)"
      ]
     },
     {
      "cell_type": "markdown",
      "id": "86257783",
      "metadata": {},
      "source": [
       "### Jupyter notebook --footer info-- (please always provide this at the end of each submitted notebook)"
      ]
     },
     {
      "cell_type": "code",
      "execution_count": null,
      "id": "7f5bf8aa",
      "metadata": {},
      "outputs": [],
      "source": [
       "import os\n",
       "import platform\n",
       "import socket\n",
       "from platform import python_version\n",
       "from datetime import datetime\n",
       "\n",
       "print('-----------------------------------')\n",
       "print(os.name.upper())\n",
       "print(platform.system(), '|', platform.release())\n",
       "print('Datetime:', datetime.now().strftime(\"%Y-%m-%d %H:%M:%S\"))\n",
       "print('Python Version:', python_version())\n",
       "print('-----------------------------------')"
      ]
     }
    ],
    "metadata": {
     "kernelspec": {
      "display_name": "Python 3 (ipykernel)",
      "language": "python",
      "name": "python3"
     },
     "language_info": {
      "codemirror_mode": {
       "name": "ipython",
       "version": 3
      },
      "file_extension": ".py",
      "mimetype": "text/x-python",
      "name": "python",
      "nbconvert_exporter": "python",
      "pygments_lexer": "ipython3",
      "version": "3.10.12"
     }
    },
    "nbformat": 4,
    "nbformat_minor": 5
   }