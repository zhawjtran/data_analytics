{
 "cells": [
  {
   "cell_type": "markdown",
   "id": "94f45734",
   "metadata": {},
   "source": [
    "# Geocoding apartment addresses using the geoadmin API"
   ]
  },
  {
   "cell_type": "markdown",
   "id": "d5734cf1",
   "metadata": {},
   "source": [
    "## Libraries and settings"
   ]
  },
  {
   "cell_type": "code",
   "execution_count": null,
   "id": "f6e940aa",
   "metadata": {},
   "outputs": [],
   "source": [
    "# Libraries\n",
    "import os\n",
    "import requests\n",
    "import json\n",
    "import urllib\n",
    "import fnmatch\n",
    "import folium\n",
    "import pandas as pd\n",
    "from IPython.display import clear_output\n",
    "\n",
    "# Ignore warnings\n",
    "import warnings\n",
    "warnings.filterwarnings('ignore')\n",
    "\n",
    "# Get current working directory\n",
    "print(os.getcwd())"
   ]
  },
  {
   "cell_type": "markdown",
   "id": "73995815",
   "metadata": {},
   "source": [
    "## Geocoding a single address"
   ]
  },
  {
   "cell_type": "markdown",
   "id": "b38336ab",
   "metadata": {},
   "source": [
    "### Define base url for address search"
   ]
  },
  {
   "cell_type": "code",
   "execution_count": null,
   "id": "3bbd6331",
   "metadata": {},
   "outputs": [],
   "source": [
    "# Define base url for address search\n",
    "base_url= \"https://api3.geo.admin.ch/rest/services/api/SearchServer?\"\n",
    "\n",
    "# Set up search parameters: address, origins and type\n",
    "parameters = {\"searchText\": \"Theaterstrasse 17, 8400 Winterthur\",\n",
    "              \"origins\": \"address\",\n",
    "              \"type\": \"locations\",\n",
    "             }\n",
    "\n",
    "# Urllib.parse.urlencode turns parameters into url\n",
    "print(f\"{base_url}{urllib.parse.urlencode(parameters)}\")"
   ]
  },
  {
   "cell_type": "markdown",
   "id": "6dd14f9f",
   "metadata": {},
   "source": [
    "### Server request & response"
   ]
  },
  {
   "cell_type": "code",
   "execution_count": null,
   "id": "c88ce54a",
   "metadata": {},
   "outputs": [],
   "source": [
    "# Server request\n",
    "r = requests.get(f\"{base_url}{urllib.parse.urlencode(parameters)}\")\n",
    "\n",
    "# Get data in json-format\n",
    "data = json.loads(r.content)\n",
    "data\n",
    "\n",
    "# Take only the first server response, convert to data frame with relevant infos\n",
    "df = pd.DataFrame.from_dict(list(data.values())[0][0], orient='columns')\n",
    "df.iloc[[1,4,5,6,11,12],:1]"
   ]
  },
  {
   "cell_type": "markdown",
   "id": "462932f9",
   "metadata": {},
   "source": [
    "## Geocoding multiple addresses"
   ]
  },
  {
   "cell_type": "markdown",
   "id": "23c1c958",
   "metadata": {},
   "source": [
    "### Importing apartment data"
   ]
  },
  {
   "cell_type": "code",
   "execution_count": null,
   "id": "ab5644ca",
   "metadata": {},
   "outputs": [],
   "source": [
    "# Get current working directory\n",
    "print(os.getcwd())\n",
    "\n",
    "# Show all files in the directory\n",
    "flist = fnmatch.filter(os.listdir('.'), '*.csv')\n",
    "for i in flist:\n",
    "    print(i)\n",
    "\n",
    "# Read the data to a pandas data frame\n",
    "df = pd.read_csv('apartments_data_prepared.csv', \n",
    "                 sep=',', \n",
    "                 encoding='utf-8')[['web-scraper-order', \n",
    "                                    'address_raw', \n",
    "                                    'datetime',\n",
    "                                    'rooms', \n",
    "                                    'area', \n",
    "                                    'luxurious',\n",
    "                                    'price_per_m2']][:100] # first 100 apartment adresses\n",
    "\n",
    "# Get number of rows and columns\n",
    "print(df.shape)\n",
    "\n",
    "# Show first records\n",
    "df.head(10)"
   ]
  },
  {
   "cell_type": "markdown",
   "id": "c644f1e1",
   "metadata": {},
   "source": [
    "### Geocoding multiple apartment addresses using the geoadmin API"
   ]
  },
  {
   "cell_type": "code",
   "execution_count": null,
   "id": "07ba71cd",
   "metadata": {},
   "outputs": [],
   "source": [
    "# Define base url\n",
    "base_url= \"https://api3.geo.admin.ch/rest/services/api/SearchServer?\"\n",
    "\n",
    "# Geocode list of adresses\n",
    "geolocation = []\n",
    "n = 1\n",
    "for i in df['address_raw'].astype(str):\n",
    "    \n",
    "    print('Geocoding address', \n",
    "          n, \n",
    "          'out of', \n",
    "          len(df['address_raw']), \n",
    "          ':', \n",
    "          i)\n",
    "    n=n+1\n",
    "    clear_output(wait=True)\n",
    "    \n",
    "    try:\n",
    "        # Set up search parameters - address, origins and type\n",
    "        parameters = {\"searchText\": i,\n",
    "                      \"origins\": \"address\",\n",
    "                      \"type\": \"locations\",\n",
    "                     }\n",
    "\n",
    "        # Server request\n",
    "        r = requests.get(f\"{base_url}{urllib.parse.urlencode(parameters)}\")\n",
    "\n",
    "        # Get data\n",
    "        data = json.loads(r.content)\n",
    "\n",
    "        # Take first server response, convert to df with relevant infos\n",
    "        df_loc = pd.DataFrame.from_dict(list(data.values())[0][0], \n",
    "                                        orient='columns')\n",
    "        geolocation.append(df_loc.iloc[[5,6],0].astype(float))\n",
    "    \n",
    "    except:\n",
    "        geolocation.append(pd.Series(data={'lat': None, 'lon': None}))\n",
    "        \n",
    "\n",
    "# Write lat and lon to df\n",
    "df_loc = pd.DataFrame(geolocation, \n",
    "                      columns=(\"lat\", \"lon\"), \n",
    "                      index=range(len(df['address_raw'])))\n",
    "df['lat'] = df_loc['lat']\n",
    "df['lon'] = df_loc['lon']\n",
    "df.head(5)"
   ]
  },
  {
   "cell_type": "markdown",
   "id": "8361f363",
   "metadata": {},
   "source": [
    "### Plot addresses on map"
   ]
  },
  {
   "cell_type": "code",
   "execution_count": null,
   "id": "44ca0b50",
   "metadata": {},
   "outputs": [],
   "source": [
    "# Initialisierung der Map\n",
    "m = folium.Map(location=[47.44, 8.65], zoom_start=10)\n",
    "\n",
    "# Add lat/lon of addresses\n",
    "df_sub = df.dropna()\n",
    "for i in range(0, len(df_sub)):\n",
    "    folium.Marker(location=(df_sub.iloc[i]['lat'], \n",
    "                            df_sub.iloc[i]['lon']), \n",
    "                  popup=df_sub.iloc[i]['address_raw']).add_to(m)\n",
    "\n",
    "# Layer control\n",
    "folium.LayerControl().add_to(m)\n",
    "\n",
    "# Plot map\n",
    "m"
   ]
  },
  {
   "cell_type": "markdown",
   "id": "841ea4b1",
   "metadata": {},
   "source": [
    "### Save data to file"
   ]
  },
  {
   "cell_type": "code",
   "execution_count": null,
   "id": "b5592902",
   "metadata": {},
   "outputs": [],
   "source": [
    "df.to_csv('Geodata/apartments_data_geocoded.csv', \n",
    "           sep=\",\", \n",
    "           encoding='utf-8',\n",
    "           index=False)"
   ]
  },
  {
   "cell_type": "markdown",
   "id": "f17743fe",
   "metadata": {},
   "source": [
    "### Jupyter notebook --footer info-- (please always provide this at the end of each submitted notebook)"
   ]
  },
  {
   "cell_type": "code",
   "execution_count": null,
   "id": "2e30cf79",
   "metadata": {},
   "outputs": [],
   "source": [
    "import os\n",
    "import platform\n",
    "import socket\n",
    "from platform import python_version\n",
    "from datetime import datetime\n",
    "\n",
    "print('-----------------------------------')\n",
    "print(os.name.upper())\n",
    "print(platform.system(), '|', platform.release())\n",
    "print('Datetime:', datetime.now().strftime(\"%Y-%m-%d %H:%M:%S\"))\n",
    "print('Python Version:', python_version())\n",
    "print('-----------------------------------')"
   ]
  }
 ],
 "metadata": {
  "kernelspec": {
   "display_name": "Python 3 (ipykernel)",
   "language": "python",
   "name": "python3"
  },
  "language_info": {
   "codemirror_mode": {
    "name": "ipython",
    "version": 3
   },
   "file_extension": ".py",
   "mimetype": "text/x-python",
   "name": "python",
   "nbconvert_exporter": "python",
   "pygments_lexer": "ipython3",
   "version": "3.10.13"
  }
 },
 "nbformat": 4,
 "nbformat_minor": 5
}
