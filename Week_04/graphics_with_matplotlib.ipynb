{
 "cells": [
  {
   "cell_type": "markdown",
   "metadata": {},
   "source": [
    "# Creating and formatting graphics with matplotlib"
   ]
  },
  {
   "cell_type": "markdown",
   "metadata": {},
   "source": [
    "## Libraries and settings"
   ]
  },
  {
   "cell_type": "code",
   "execution_count": null,
   "metadata": {},
   "outputs": [],
   "source": [
    "# Libraries\n",
    "import os\n",
    "import numpy as np\n",
    "import matplotlib.pyplot as plt\n",
    "import matplotlib.colors as mcolors\n",
    "from matplotlib.patches import Rectangle\n",
    "\n",
    "# Ignore warnings\n",
    "import warnings\n",
    "warnings.filterwarnings(\"ignore\")\n",
    "\n",
    "# Show current working directory\n",
    "print(os.getcwd())"
   ]
  },
  {
   "cell_type": "markdown",
   "metadata": {},
   "source": [
    "## Parts of a graphic in matplotlib"
   ]
  },
  {
   "cell_type": "markdown",
   "metadata": {},
   "source": [
    "<figure>\n",
    "  <img src=\"https://matplotlib.org/3.5.0/_images/sphx_glr_anatomy_001.png\" alt=\"\" style=\"width:50%\", align=\"left\">\n",
    "</figure>"
   ]
  },
  {
   "cell_type": "markdown",
   "metadata": {},
   "source": [
    "## Named colors supported in matplotlib"
   ]
  },
  {
   "cell_type": "markdown",
   "metadata": {},
   "source": [
    "This plots a list of the named colors supported in matplotlib. Note that xkcd colors are supported as well, but are not listed here for brevity."
   ]
  },
  {
   "cell_type": "code",
   "execution_count": null,
   "metadata": {},
   "outputs": [],
   "source": [
    "def plot_colortable(colors, title, sort_colors=True, emptycols=0):\n",
    "\n",
    "    cell_width = 212\n",
    "    cell_height = 20\n",
    "    swatch_width = 40\n",
    "    margin = 12\n",
    "    topmargin = 40\n",
    "\n",
    "    # Sort colors by hue, saturation, value and name.\n",
    "    if sort_colors is True:\n",
    "        by_hsv = sorted((tuple(mcolors.rgb_to_hsv(mcolors.to_rgb(color))),\n",
    "                         name)\n",
    "                        for name, color in colors.items())\n",
    "        names = [name for hsv, name in by_hsv]\n",
    "    else:\n",
    "        names = list(colors)\n",
    "\n",
    "    n = len(names)\n",
    "    ncols = 4 - emptycols\n",
    "    nrows = n // ncols + int(n % ncols > 0)\n",
    "\n",
    "    width = cell_width * 4 + 2 * margin\n",
    "    height = cell_height * nrows + margin + topmargin\n",
    "    dpi = 52\n",
    "\n",
    "    fig, ax = plt.subplots(figsize=(width / dpi, height / dpi), dpi=dpi)\n",
    "    fig.subplots_adjust(margin/width, margin/height,\n",
    "                        (width-margin)/width, (height-topmargin)/height)\n",
    "    ax.set_xlim(0, cell_width * 4)\n",
    "    ax.set_ylim(cell_height * (nrows-0.5), -cell_height/2.)\n",
    "    ax.yaxis.set_visible(False)\n",
    "    ax.xaxis.set_visible(False)\n",
    "    ax.set_axis_off()\n",
    "    ax.set_title(title, fontsize=24, loc=\"left\", pad=10)\n",
    "\n",
    "    for i, name in enumerate(names):\n",
    "        row = i % nrows\n",
    "        col = i // nrows\n",
    "        y = row * cell_height\n",
    "\n",
    "        swatch_start_x = cell_width * col\n",
    "        text_pos_x = cell_width * col + swatch_width + 7\n",
    "\n",
    "        ax.text(text_pos_x, y, name, fontsize=14,\n",
    "                horizontalalignment='left',\n",
    "                verticalalignment='center')\n",
    "\n",
    "        ax.add_patch(\n",
    "            Rectangle(xy=(swatch_start_x, y-9), width=swatch_width,\n",
    "                      height=18, facecolor=colors[name], edgecolor='0.7')\n",
    "        )\n",
    "\n",
    "    return fig\n",
    "\n",
    "plot_colortable(mcolors.BASE_COLORS, \"Base Colors\",\n",
    "                sort_colors=False, emptycols=1)\n",
    "plot_colortable(mcolors.TABLEAU_COLORS, \"Tableau Palette\",\n",
    "                sort_colors=False, emptycols=2)\n",
    "\n",
    "plot_colortable(mcolors.CSS4_COLORS, \"CSS Colors\")\n",
    "\n",
    "# Optionally plot the XKCD colors (Caution: will produce large figure)\n",
    "# xkcd_fig = plot_colortable(mcolors.XKCD_COLORS, \"XKCD Colors\")\n",
    "# xkcd_fig.savefig(\"XKCD_Colors.png\")\n",
    "\n",
    "plt.show()"
   ]
  },
  {
   "cell_type": "markdown",
   "metadata": {},
   "source": [
    "## Marker symbols"
   ]
  },
  {
   "cell_type": "code",
   "execution_count": null,
   "metadata": {},
   "outputs": [],
   "source": [
    "# Different marker symbols in one plot\n",
    "rng = np.random.RandomState(0)\n",
    "\n",
    "plt.figure(figsize=(7,4))\n",
    "for marker in ['o', '.', ',', 'x', '+', 'v', '^', '<', '>', 's', 'd']:\n",
    "    plt.plot(rng.rand(5), rng.rand(5), marker,\n",
    "             label=\"marker='{0}'\".format(marker), markersize=10)\n",
    "plt.legend(numpoints=1, fontsize=10)\n",
    "plt.xlim(0, 1.5)"
   ]
  },
  {
   "cell_type": "markdown",
   "metadata": {},
   "source": [
    "## Scatterplot with individual marker symbols"
   ]
  },
  {
   "cell_type": "code",
   "execution_count": null,
   "metadata": {},
   "outputs": [],
   "source": [
    "# Data\n",
    "x = [10, 12, 15, 18, 20, 24, 28, 32, 38, 42]\n",
    "y = [8, 9, 11, 14, 16, 18, 22, 25, 32, 34]\n",
    "z = list(map(lambda x : x*1.2, y))\n",
    "g = list(map(lambda x : x*0.8, y))\n",
    "e = list(map(lambda x : x*0.6, y))\n",
    "  \n",
    "# Create a figure and axes\n",
    "plt.figure(figsize=(7,4))\n",
    "\n",
    "# Function to plot and show graph\n",
    "scatter_01 = plt.scatter(x, y, s=100, marker='o', color='orangered')\n",
    "scatter_02 = plt.scatter(x, z, s=100, marker='+', color='green')\n",
    "scatter_03 = plt.scatter(x, g, s=100, marker='*', color='deepskyblue')\n",
    "scatter_04 = plt.scatter(x, e, s=100, marker='^', color='orange')\n",
    "\n",
    "plt.show()"
   ]
  },
  {
   "cell_type": "markdown",
   "metadata": {},
   "source": [
    "## Formatting axes and setting limits and ticks"
   ]
  },
  {
   "cell_type": "code",
   "execution_count": null,
   "metadata": {},
   "outputs": [],
   "source": [
    "# Data\n",
    "x = [10, 12, 15, 18, 20, 24, 28, 32, 38, 42]\n",
    "y = [8, 9, 11, 14, 16, 18, 22, 25, 32, 34]\n",
    "z = list(map(lambda x : x*1.2, y))\n",
    "g = list(map(lambda x : x*0.8, y))\n",
    "e = list(map(lambda x : x*0.6, y))\n",
    "  \n",
    "# Create a figure and axes\n",
    "plt.figure(figsize=(7,4))\n",
    "  \n",
    "# Title and axes labels\n",
    "plt.title('Scatterplot', fontsize=12)\n",
    "plt.ylabel('y-axis', fontsize=12)\n",
    "plt.xlabel('x-axis', fontsize=12)\n",
    "\n",
    "# Set tick labels locations\n",
    "plt.xticks(np.arange(0, 60, step=2)) \n",
    "plt.yticks(np.arange(0, 60, step=5)) \n",
    "\n",
    "# Set fontsize of tick labels\n",
    "plt.xticks(fontsize = 10)\n",
    "plt.yticks(fontsize = 10)\n",
    "\n",
    "# Set x, y-axis limits\n",
    "plt.xlim(0, 50)\n",
    "plt.ylim(0, 45)\n",
    "\n",
    "# Function to plot and show graph\n",
    "scatter_01 = plt.scatter(x, y, s=100, marker='o', color='orangered')\n",
    "scatter_02 = plt.scatter(x, z, s=100, marker='+', color='green')\n",
    "scatter_03 = plt.scatter(x, g, s=100, marker='*', color='deepskyblue')\n",
    "scatter_04 = plt.scatter(x, e, s=100, marker='^', color='orange')\n",
    "\n",
    "plt.show()"
   ]
  },
  {
   "cell_type": "markdown",
   "metadata": {},
   "source": [
    "## Adding a legend"
   ]
  },
  {
   "cell_type": "code",
   "execution_count": null,
   "metadata": {},
   "outputs": [],
   "source": [
    "# Data\n",
    "x = [10, 12, 15, 18, 20, 24, 28, 32, 38, 42]\n",
    "y = [8, 9, 11, 14, 16, 18, 22, 25, 32, 34]\n",
    "z = list(map(lambda x : x*1.2, y))\n",
    "g = list(map(lambda x : x*0.8, y))\n",
    "e = list(map(lambda x : x*0.6, y))\n",
    "  \n",
    "# Create a figure and axes\n",
    "plt.figure(figsize=(7,4))\n",
    "  \n",
    "# Title and axes labels\n",
    "plt.title('Scatterplot', fontsize=12)\n",
    "plt.ylabel('y-axis', fontsize=12)\n",
    "plt.xlabel('x-axis', fontsize=12)\n",
    "\n",
    "# Set tick labels locations\n",
    "plt.xticks(np.arange(0, 60, step=2)) \n",
    "plt.yticks(np.arange(0, 60, step=5)) \n",
    "\n",
    "# Set fontsize of tick labels\n",
    "plt.xticks(fontsize = 10)\n",
    "plt.yticks(fontsize = 10)\n",
    "\n",
    "# Set x, y-axis limits\n",
    "plt.xlim(0, 50)\n",
    "plt.ylim(0, 45)\n",
    "\n",
    "# Function to plot and show graph\n",
    "scatter_01 = plt.scatter(x, y, s=100, marker='o', color='orangered')\n",
    "scatter_02 = plt.scatter(x, z, s=100, marker='+', color='green')\n",
    "scatter_03 = plt.scatter(x, g, s=100, marker='*', color='deepskyblue')\n",
    "scatter_04 = plt.scatter(x, e, s=100, marker='^', color='orange')\n",
    "\n",
    "# Add Legend\n",
    "plt.legend(handles = [scatter_01, scatter_02, scatter_03, scatter_04], \n",
    "           labels = ['Red points', 'Green points', 'Blue points', 'Orange points'],\n",
    "           loc=\"upper left\",\n",
    "           fontsize=10)\n",
    "\n",
    "plt.show()"
   ]
  },
  {
   "cell_type": "markdown",
   "metadata": {},
   "source": [
    "## Adding a text annotation"
   ]
  },
  {
   "cell_type": "code",
   "execution_count": null,
   "metadata": {},
   "outputs": [],
   "source": [
    "# Data\n",
    "x = [10, 12, 15, 18, 20, 24, 28, 32, 38, 42]\n",
    "y = [8, 9, 11, 14, 16, 18, 22, 25, 32, 34]\n",
    "z = list(map(lambda x : x*1.2, y))\n",
    "g = list(map(lambda x : x*0.8, y))\n",
    "e = list(map(lambda x : x*0.6, y))\n",
    "  \n",
    "# Create a figure and axes\n",
    "plt.figure(figsize=(7,4))\n",
    "  \n",
    "# Title and axes labels\n",
    "plt.title('Scatterplot', fontsize=12)\n",
    "plt.ylabel('y-axis', fontsize=12)\n",
    "plt.xlabel('x-axis', fontsize=12)\n",
    "\n",
    "# Set tick labels locations\n",
    "plt.xticks(np.arange(0, 60, step=2)) \n",
    "plt.yticks(np.arange(0, 60, step=5)) \n",
    "\n",
    "# Set fontsize of tick labels\n",
    "plt.xticks(fontsize = 10)\n",
    "plt.yticks(fontsize = 10)\n",
    "\n",
    "# Set x, y-axis limits\n",
    "plt.xlim(0, 50)\n",
    "plt.ylim(0, 45)\n",
    "\n",
    "# Function to plot and show graph\n",
    "scatter_01 = plt.scatter(x, y, s=100, marker='o', color='orangered')\n",
    "scatter_02 = plt.scatter(x, z, s=100, marker='+', color='green')\n",
    "scatter_03 = plt.scatter(x, g, s=100, marker='*', color='deepskyblue')\n",
    "scatter_04 = plt.scatter(x, e, s=100, marker='^', color='orange')\n",
    "\n",
    "# Add Legend\n",
    "plt.legend(handles = [scatter_01, scatter_02, scatter_03, scatter_04], \n",
    "           labels = ['Red points', 'Green points', 'Blue points', 'Orange points'],\n",
    "           loc=\"upper left\",\n",
    "           fontsize=10)\n",
    "\n",
    "# Add text annotation\n",
    "plt.text(28, 6, s=\"Look at the orange dots!\", fontsize=12, color=\"orange\")\n",
    "\n",
    "plt.show()"
   ]
  },
  {
   "cell_type": "markdown",
   "metadata": {},
   "source": [
    "## Adding a grid"
   ]
  },
  {
   "cell_type": "code",
   "execution_count": null,
   "metadata": {},
   "outputs": [],
   "source": [
    "# Data\n",
    "x = [10, 12, 15, 18, 20, 24, 28, 32, 38, 42]\n",
    "y = [8, 9, 11, 14, 16, 18, 22, 25, 32, 34]\n",
    "z = list(map(lambda x : x*1.2, y))\n",
    "g = list(map(lambda x : x*0.8, y))\n",
    "e = list(map(lambda x : x*0.6, y))\n",
    "  \n",
    "# Create a figure and axes\n",
    "plt.figure(figsize=(7,4))\n",
    "  \n",
    "# Title and axes labels\n",
    "plt.title('Scatterplot', fontsize=12)\n",
    "plt.ylabel('y-axis', fontsize=12)\n",
    "plt.xlabel('x-axis', fontsize=12)\n",
    "\n",
    "# Set tick labels locations\n",
    "plt.xticks(np.arange(0, 60, step=2)) \n",
    "plt.yticks(np.arange(0, 60, step=5)) \n",
    "\n",
    "# Set fontsize of tick labels\n",
    "plt.xticks(fontsize = 10)\n",
    "plt.yticks(fontsize = 10)\n",
    "\n",
    "# Set x, y-axis limits\n",
    "plt.xlim(0, 50)\n",
    "plt.ylim(0, 45)\n",
    "\n",
    "# Function to plot and show graph\n",
    "scatter_01 = plt.scatter(x, y, s=100, marker='o', color='orangered')\n",
    "scatter_02 = plt.scatter(x, z, s=100, marker='+', color='green')\n",
    "scatter_03 = plt.scatter(x, g, s=100, marker='*', color='deepskyblue')\n",
    "scatter_04 = plt.scatter(x, e, s=100, marker='^', color='orange')\n",
    "\n",
    "# Add Legend\n",
    "plt.legend(handles = [scatter_01, scatter_02, scatter_03, scatter_04], \n",
    "           labels = ['Red points', 'Green points', 'Blue points', 'Orange points'],\n",
    "           loc=\"upper left\",\n",
    "           fontsize=10)\n",
    "\n",
    "# Add text annotation\n",
    "plt.text(28, 8, s=\"Look at the orange dots!\", fontsize=14, color=\"orange\")\n",
    "\n",
    "# Adding a grid to the plot\n",
    "plt.grid()\n",
    "\n",
    "plt.show()"
   ]
  },
  {
   "cell_type": "markdown",
   "metadata": {},
   "source": [
    "## Creating multiplots with .subplots()"
   ]
  },
  {
   "cell_type": "code",
   "execution_count": null,
   "metadata": {},
   "outputs": [],
   "source": [
    "# Define 2x2 subplots and whether x- and y-axes should be shared\n",
    "fig, ax = plt.subplots(2, 2, figsize=(7,4), sharex=True, sharey=True)\n",
    "\n",
    "ax[0, 0].scatter(x, y, s=100, marker='o', color='orangered') # row=0, col=0\n",
    "ax[1, 0].scatter(x, z, s=100, marker='+', color='green') # row=1, col=0\n",
    "ax[0, 1].scatter(x, g, s=100, marker='*', color='deepskyblue') # row=0, col=1\n",
    "ax[1, 1].scatter(x, e, s=100, marker='^', color='orange') # row=1, col=1\n",
    "\n",
    "# Adding title\n",
    "ax[0, 0].set_title('Figure at [0, 0]', fontsize = 12)\n",
    "ax[1, 0].set_title('Figure at [1, 0]', fontsize = 12)\n",
    "ax[0, 1].set_title('Figure at [0, 1]', fontsize = 12)\n",
    "ax[1, 1].set_title('Figure at [1, 1]', fontsize = 12)\n",
    "\n",
    "# Adding x-labels\n",
    "ax[0, 0].set_xlabel('', fontsize = 10)\n",
    "ax[1, 0].set_xlabel('x-label', fontsize = 10)\n",
    "ax[0, 1].set_xlabel('', fontsize = 10)\n",
    "ax[1, 1].set_xlabel('x-label', fontsize = 10)\n",
    "\n",
    "# Adding y-labels\n",
    "ax[0, 0].set_ylabel('y-label', fontsize = 10)\n",
    "ax[1, 0].set_ylabel('y-label', fontsize = 10)\n",
    "ax[0, 1].set_ylabel('', fontsize = 10)\n",
    "ax[1, 1].set_ylabel('', fontsize = 10)\n",
    "\n",
    "# Set the spacing between subplots\n",
    "plt.subplots_adjust(left=0.1,\n",
    "                    bottom=0.1, \n",
    "                    right=0.9, \n",
    "                    top=0.9, \n",
    "                    wspace=0.4, \n",
    "                    hspace=0.4)\n",
    "\n",
    "plt.show()"
   ]
  },
  {
   "cell_type": "markdown",
   "metadata": {},
   "source": [
    "## Saving figure to file"
   ]
  },
  {
   "cell_type": "code",
   "execution_count": null,
   "metadata": {},
   "outputs": [],
   "source": [
    "# Define 2x2 subplots and whether x- and y-axes should be shared\n",
    "fig, ax = plt.subplots(2, 2, figsize=(7,4), sharex=True, sharey=True)\n",
    "\n",
    "ax[0, 0].scatter(x, y, s=100, marker='o', color='orangered') # row=0, col=0\n",
    "ax[1, 0].scatter(x, z, s=100, marker='+', color='green') # row=1, col=0\n",
    "ax[0, 1].scatter(x, g, s=100, marker='*', color='deepskyblue') # row=0, col=1\n",
    "ax[1, 1].scatter(x, e, s=100, marker='^', color='orange') # row=1, col=1\n",
    "\n",
    "# Adding title\n",
    "ax[0, 0].set_title('Figure at [0, 0]', fontsize = 12)\n",
    "ax[1, 0].set_title('Figure at [1, 0]', fontsize = 12)\n",
    "ax[0, 1].set_title('Figure at [0, 1]', fontsize = 12)\n",
    "ax[1, 1].set_title('Figure at [1, 1]', fontsize = 12)\n",
    "\n",
    "# Adding x-labels\n",
    "ax[0, 0].set_xlabel('', fontsize = 10)\n",
    "ax[1, 0].set_xlabel('x-label', fontsize = 10)\n",
    "ax[0, 1].set_xlabel('', fontsize = 10)\n",
    "ax[1, 1].set_xlabel('x-label', fontsize = 10)\n",
    "\n",
    "# Adding y-labels\n",
    "ax[0, 0].set_ylabel('y-label', fontsize = 10)\n",
    "ax[1, 0].set_ylabel('y-label', fontsize = 10)\n",
    "ax[0, 1].set_ylabel('', fontsize = 10)\n",
    "ax[1, 1].set_ylabel('', fontsize = 10)\n",
    "\n",
    "# Set the spacing between subplots\n",
    "plt.subplots_adjust(left=0.1,\n",
    "                    bottom=0.1, \n",
    "                    right=0.9, \n",
    "                    top=0.9, \n",
    "                    wspace=0.4, \n",
    "                    hspace=0.4)\n",
    "\n",
    "# Save figure above to file\n",
    "plt.savefig('myplot.png')\n",
    "\n",
    "# Close connections\n",
    "plt.close()"
   ]
  },
  {
   "cell_type": "markdown",
   "metadata": {},
   "source": [
    "### Jupyter notebook --footer info-- (please always provide this at the end of each submitted notebook)"
   ]
  },
  {
   "cell_type": "code",
   "execution_count": null,
   "metadata": {},
   "outputs": [],
   "source": [
    "import os\n",
    "import platform\n",
    "import socket\n",
    "from platform import python_version\n",
    "from datetime import datetime\n",
    "\n",
    "print('-----------------------------------')\n",
    "print(os.name.upper())\n",
    "print(platform.system(), '|', platform.release())\n",
    "print('Datetime:', datetime.now().strftime(\"%Y-%m-%d %H:%M:%S\"))\n",
    "print('Python Version:', python_version())\n",
    "print('-----------------------------------')"
   ]
  }
 ],
 "metadata": {
  "gist": {
   "data": {
    "description": "histogram.ipynb",
    "public": false
   },
   "id": ""
  },
  "interpreter": {
   "hash": "80dd4b6cd41cca4ee92644ecda36a6b995104716f495f2fe281559cced81c062"
  },
  "kernelspec": {
   "display_name": "Python 3 (ipykernel)",
   "language": "python",
   "name": "python3"
  },
  "language_info": {
   "codemirror_mode": {
    "name": "ipython",
    "version": 3
   },
   "file_extension": ".py",
   "mimetype": "text/x-python",
   "name": "python",
   "nbconvert_exporter": "python",
   "pygments_lexer": "ipython3",
   "version": "3.10.12"
  },
  "toc": {
   "base_numbering": 1,
   "nav_menu": {},
   "number_sections": true,
   "sideBar": true,
   "skip_h1_title": false,
   "title_cell": "Table of Contents",
   "title_sidebar": "Contents",
   "toc_cell": false,
   "toc_position": {
    "height": "calc(100% - 180px)",
    "left": "10px",
    "top": "150px",
    "width": "196.075px"
   },
   "toc_section_display": true,
   "toc_window_display": true
  }
 },
 "nbformat": 4,
 "nbformat_minor": 2
}
