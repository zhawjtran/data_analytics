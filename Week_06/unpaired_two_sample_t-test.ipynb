{
 "cells": [
  {
   "cell_type": "markdown",
   "id": "63a64c4b",
   "metadata": {},
   "source": [
    "# Unpaired two-sample t-test"
   ]
  },
  {
   "cell_type": "markdown",
   "id": "5c34b58a",
   "metadata": {},
   "source": [
    "## Libraries and settings"
   ]
  },
  {
   "cell_type": "code",
   "execution_count": null,
   "id": "c1300e34",
   "metadata": {},
   "outputs": [],
   "source": [
    "# Libraries\n",
    "import os\n",
    "import pandas as pd\n",
    "import matplotlib.pyplot as plt\n",
    "import seaborn as sns\n",
    "import numpy as np\n",
    "from scipy import stats\n",
    "\n",
    "# Settings for seaborn\n",
    "sns.set_theme(style=\"ticks\", palette=\"pastel\")\n",
    "\n",
    "# Ignore warnings\n",
    "import warnings\n",
    "warnings.filterwarnings(\"ignore\")\n",
    "\n",
    "# Show current working directory\n",
    "print(os.getcwd())"
   ]
  },
  {
   "cell_type": "markdown",
   "id": "e1e96aa1",
   "metadata": {},
   "source": [
    "## Read example data (used car data)"
   ]
  },
  {
   "cell_type": "code",
   "execution_count": null,
   "id": "68403471",
   "metadata": {},
   "outputs": [],
   "source": [
    "df = pd.read_excel('t-tests_and_ANOVA.xlsx', sheet_name='t-test_data')\n",
    "\n",
    "# Show categories of 'Make'\n",
    "print(df['Make'].value_counts())\n",
    "\n",
    "# Show first rows in dataframe\n",
    "df.head()"
   ]
  },
  {
   "cell_type": "markdown",
   "id": "ccc6ef50",
   "metadata": {},
   "source": [
    "## Create grouped boxplot (groups = make, values = car prices)"
   ]
  },
  {
   "cell_type": "code",
   "execution_count": null,
   "id": "dea1629a",
   "metadata": {},
   "outputs": [],
   "source": [
    "# Plot boxplot with groups\n",
    "plt.figure(figsize=(8,2))\n",
    "ax = sns.boxplot(x=\"Price\",\n",
    "                 y=\"Make\",\n",
    "                 palette=['r', 'g'],\n",
    "                 data=df,\n",
    "                 orient='h')\n",
    "plt.grid()\n",
    "plt.show()"
   ]
  },
  {
   "cell_type": "markdown",
   "id": "f6898880",
   "metadata": {},
   "source": [
    "## Unpaired two-sample t-test"
   ]
  },
  {
   "cell_type": "code",
   "execution_count": null,
   "id": "4781abe3",
   "metadata": {},
   "outputs": [],
   "source": [
    "# Create subsets (groups)\n",
    "vw = df.loc[df['Make'] == 'VW']\n",
    "bmw = df.loc[df['Make'] == 'BMW']\n",
    "\n",
    "# Create t-test\n",
    "result = stats.ttest_ind(vw['Price'], bmw['Price'])\n",
    "\n",
    "# Print result\n",
    "print('Test-statistic:', result[0].round(5), 'p-value',  result[1].round(5))"
   ]
  },
  {
   "cell_type": "markdown",
   "id": "19f4e4ff",
   "metadata": {},
   "source": [
    "## Interpretation of result"
   ]
  },
  {
   "cell_type": "markdown",
   "id": "67d3a198",
   "metadata": {},
   "source": [
    "<p> Because the p-value is lower than 0.05, the null hypothesis can be rejected, i.e. there is evidence that the used car prices of VW, BMW differ. Note that, from the t-test above, it is not clear which brand show higher or lower prices. It only shows that there is a statistically significant (5% significance level) difference between prices.</p>"
   ]
  },
  {
   "cell_type": "markdown",
   "id": "a639c095",
   "metadata": {},
   "source": [
    "## Importing apartment data"
   ]
  },
  {
   "cell_type": "code",
   "execution_count": null,
   "id": "2e83ae76",
   "metadata": {},
   "outputs": [],
   "source": [
    "# Read the data to a pandas data frame\n",
    "df = pd.read_csv('apartments_data_enriched_cleaned.csv', \n",
    "                 sep=';', \n",
    "                 encoding='utf-8')[['web-scraper-order',\n",
    "                                    'address_raw',\n",
    "                                    'lat',\n",
    "                                    'lon',\n",
    "                                    'bfs_number',\n",
    "                                    'bfs_name',\n",
    "                                    'rooms', \n",
    "                                    'area', \n",
    "                                    'luxurious', \n",
    "                                    'price', \n",
    "                                    'price_per_m2',\n",
    "                                    'pop_dens',\n",
    "                                    'frg_pct',\n",
    "                                    'mean_taxable_income',\n",
    "                                    'dist_supermarket']]\n",
    "\n",
    "# Get number of rows and columns\n",
    "print(df.shape)\n",
    "\n",
    "# Show first records\n",
    "df.head(5)"
   ]
  },
  {
   "cell_type": "markdown",
   "id": "45d16590",
   "metadata": {},
   "source": [
    "## Create new binary variable with densely populated and all other municipalities"
   ]
  },
  {
   "cell_type": "code",
   "execution_count": null,
   "id": "6797da4a",
   "metadata": {},
   "outputs": [],
   "source": [
    "df['pop_dens_binary'] = (df['pop_dens'] >= 1000).astype(int)\n",
    "df.head(5)"
   ]
  },
  {
   "cell_type": "markdown",
   "id": "e495f0cb",
   "metadata": {},
   "source": [
    "## Create pivot table with mean price_per_m2"
   ]
  },
  {
   "cell_type": "code",
   "execution_count": null,
   "id": "fb97633c",
   "metadata": {},
   "outputs": [],
   "source": [
    "# Using pivot_table to reshape the data and calculate means \n",
    "pd.pivot_table(df[['pop_dens_binary', 'price_per_m2']],\n",
    "               index=['pop_dens_binary'],\n",
    "               values=['price_per_m2'],\n",
    "               aggfunc=[np.mean, 'count'])"
   ]
  },
  {
   "cell_type": "markdown",
   "id": "a154e4d5",
   "metadata": {},
   "source": [
    "## Create grouped boxplot (groups = pop_dens_binary, values = prices_per_m2)"
   ]
  },
  {
   "cell_type": "code",
   "execution_count": null,
   "id": "51c49c78",
   "metadata": {},
   "outputs": [],
   "source": [
    "# Plot boxplot with groups\n",
    "plt.figure(figsize=(8,2))\n",
    "ax = sns.boxplot(x=\"price_per_m2\",\n",
    "                 y=\"pop_dens_binary\",\n",
    "                 data=df,\n",
    "                 palette=['r', 'g'],\n",
    "                 orient='h')\n",
    "plt.grid()\n",
    "plt.show()"
   ]
  },
  {
   "cell_type": "markdown",
   "id": "22ca2122",
   "metadata": {},
   "source": [
    "## Unpaired two-sample t-test"
   ]
  },
  {
   "cell_type": "code",
   "execution_count": null,
   "id": "d1cead15",
   "metadata": {},
   "outputs": [],
   "source": [
    "# Create subsets (groups)\n",
    "densely_populated = df.loc[df['pop_dens_binary'] == 0]\n",
    "not_densely_populated = df.loc[df['pop_dens_binary'] == 1]\n",
    "\n",
    "# Create t-test\n",
    "result = stats.ttest_ind(densely_populated['price_per_m2'], \n",
    "                         not_densely_populated['price_per_m2'])\n",
    "\n",
    "# Print result\n",
    "print('Test-statistic:', result[0].round(5), 'p-value',  result[1].round(5))"
   ]
  },
  {
   "cell_type": "markdown",
   "id": "f4876e12",
   "metadata": {},
   "source": [
    "## Interpretation of result"
   ]
  },
  {
   "cell_type": "markdown",
   "id": "9ab5da97",
   "metadata": {},
   "source": [
    "<p> Because the p-value is lower than 0.05, the null hypothesis can be rejected, i.e. there is evidence that the prices per m2 differ between densely populated and other municipalities. Note that, from the t-test above, it is not clear which group of municipalities show lower or higher prices. It only shows that there is a statistically significant (5% significance level) difference between prices.</p>"
   ]
  },
  {
   "cell_type": "markdown",
   "id": "525aee9d",
   "metadata": {},
   "source": [
    "### Jupyter notebook --footer info-- (please always provide this at the end of each submitted notebook)"
   ]
  },
  {
   "cell_type": "code",
   "execution_count": null,
   "id": "936486dc",
   "metadata": {},
   "outputs": [],
   "source": [
    "import os\n",
    "import platform\n",
    "import socket\n",
    "from platform import python_version\n",
    "from datetime import datetime\n",
    "\n",
    "print('-----------------------------------')\n",
    "print(os.name.upper())\n",
    "print(platform.system(), '|', platform.release())\n",
    "print('Datetime:', datetime.now().strftime(\"%Y-%m-%d %H:%M:%S\"))\n",
    "print('Python Version:', python_version())\n",
    "print('-----------------------------------')"
   ]
  }
 ],
 "metadata": {
  "kernelspec": {
   "display_name": "Python 3 (ipykernel)",
   "language": "python",
   "name": "python3"
  },
  "language_info": {
   "codemirror_mode": {
    "name": "ipython",
    "version": 3
   },
   "file_extension": ".py",
   "mimetype": "text/x-python",
   "name": "python",
   "nbconvert_exporter": "python",
   "pygments_lexer": "ipython3",
   "version": "3.10.13"
  }
 },
 "nbformat": 4,
 "nbformat_minor": 5
}
