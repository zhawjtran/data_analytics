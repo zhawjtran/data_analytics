{
 "cells": [
  {
   "cell_type": "markdown",
   "id": "a59b1799",
   "metadata": {},
   "source": [
    "# Classification analysis (titanic data)"
   ]
  },
  {
   "cell_type": "markdown",
   "id": "8ca19f50",
   "metadata": {},
   "source": [
    "## Libraries and settings"
   ]
  },
  {
   "cell_type": "code",
   "execution_count": null,
   "id": "2406c857",
   "metadata": {},
   "outputs": [],
   "source": [
    "# Libraries\n",
    "import os\n",
    "import numpy as np\n",
    "import pandas as pd\n",
    "import seaborn as sns\n",
    "import matplotlib.pyplot as plt\n",
    "from IPython.display import Image\n",
    "\n",
    "from sklearn import tree\n",
    "from sklearn.metrics import RocCurveDisplay\n",
    "from sklearn.tree import DecisionTreeClassifier\n",
    "from sklearn.ensemble import RandomForestClassifier\n",
    "from sklearn.model_selection import train_test_split\n",
    "from sklearn.metrics import classification_report, confusion_matrix\n",
    "\n",
    "# Ignore warnings\n",
    "import warnings\n",
    "warnings.filterwarnings('ignore')\n",
    "\n",
    "# Show current working directory\n",
    "print(os.getcwd())\n",
    "\n",
    "# Show version of scikit-learn\n",
    "import sklearn\n",
    "sklearn.__version__"
   ]
  },
  {
   "cell_type": "markdown",
   "id": "3874c706",
   "metadata": {},
   "source": [
    "## Import titanic data"
   ]
  },
  {
   "cell_type": "code",
   "execution_count": null,
   "id": "9d01b013",
   "metadata": {},
   "outputs": [],
   "source": [
    "# Read and select variables\n",
    "df_titanic_orig = pd.read_csv(\"titanic.csv\", sep=\",\", encoding=\"utf-8\")\n",
    "\n",
    "# Number of rows and columns\n",
    "print(df_titanic_orig.shape)\n",
    "\n",
    "# First records\n",
    "df_titanic_orig.head(5)"
   ]
  },
  {
   "cell_type": "markdown",
   "id": "ccdcafb0",
   "metadata": {},
   "source": [
    "## Variable description"
   ]
  },
  {
   "cell_type": "markdown",
   "id": "76644983",
   "metadata": {},
   "source": [
    "- PassengerId passenger identification number\n",
    "- Survival survival status (0 = No; 1 = Yes)\n",
    "- Pclass passenger class (1 = 1st; 2 = 2nd; 3 = 3rd)\n",
    "- Name name\n",
    "- Sex sex\n",
    "- Age age \n",
    "- SibSp number of siblings/spouses aboard\n",
    "- Parch number of parents/children aboard\n",
    "- Ticket ticket number\n",
    "- Fare passenger fare (British pound)\n",
    "- Cabin cabin\n",
    "- Embarked port of embarkation (C = Cherbourg; Q = Queenstown; S = Southampton)"
   ]
  },
  {
   "cell_type": "code",
   "execution_count": null,
   "id": "e93b329a",
   "metadata": {},
   "outputs": [],
   "source": [
    "Image(\"img.jpg\", width='800')"
   ]
  },
  {
   "cell_type": "markdown",
   "id": "504180cb",
   "metadata": {},
   "source": [
    "## Count and remove missing values"
   ]
  },
  {
   "cell_type": "code",
   "execution_count": null,
   "id": "3c48e42d",
   "metadata": {},
   "outputs": [],
   "source": [
    "# Count missing values\n",
    "print(df_titanic_orig.isna().sum())\n",
    "\n",
    "# Remove missing values\n",
    "df_titanic = df_titanic_orig.dropna(subset=['Survived', 'Sex', 'Age', 'Pclass', 'Fare'])"
   ]
  },
  {
   "cell_type": "markdown",
   "id": "ad654f71",
   "metadata": {},
   "source": [
    "## Barchart survival status count by gender"
   ]
  },
  {
   "cell_type": "code",
   "execution_count": null,
   "id": "579e3f43",
   "metadata": {},
   "outputs": [],
   "source": [
    "# Create a pivot table\n",
    "table = df_titanic[['Sex', 'Survived']].pivot_table(index='Sex', \n",
    "                                        columns=['Survived'], \n",
    "                                        aggfunc=len)\n",
    "\n",
    "# Plot a stacked bar chart\n",
    "table.plot(kind='bar', \n",
    "           stacked=True, \n",
    "           ylabel='Counts', \n",
    "           xlabel='Gender',\n",
    "           title='Survival Status Count by Gender', \n",
    "           rot=0,\n",
    "           figsize=(6,4))\n",
    "\n",
    "plt.show()"
   ]
  },
  {
   "cell_type": "markdown",
   "id": "1188266f",
   "metadata": {},
   "source": [
    "## Pivot table"
   ]
  },
  {
   "cell_type": "code",
   "execution_count": null,
   "id": "218415b2",
   "metadata": {},
   "outputs": [],
   "source": [
    "# Using pivot_table to reshape the data and calculate means \n",
    "pd.pivot_table(df_titanic[['Survived',\n",
    "                           'Age',\n",
    "                           'Sex',\n",
    "                           'Fare',\n",
    "                           'Pclass']],\n",
    "               index=['Survived', 'Sex'],\n",
    "               values=['Age', 'Fare', 'Pclass'],\n",
    "               aggfunc=(np.mean, 'count')).round(0)"
   ]
  },
  {
   "cell_type": "markdown",
   "id": "852522c0",
   "metadata": {},
   "source": [
    "## Transform nominal variable to matrix with 0/1 values"
   ]
  },
  {
   "cell_type": "code",
   "execution_count": null,
   "id": "8e718d2c",
   "metadata": {},
   "outputs": [],
   "source": [
    "male = pd.get_dummies(df_titanic, drop_first=False, columns=['Sex'])\n",
    "male[['Sex_female', 'Sex_male']].head()"
   ]
  },
  {
   "cell_type": "markdown",
   "id": "52ff3123",
   "metadata": {},
   "source": [
    "## Create binary variable 'Sex_male' (wth 0=no, 1=yes)"
   ]
  },
  {
   "cell_type": "code",
   "execution_count": null,
   "id": "5b636656",
   "metadata": {},
   "outputs": [],
   "source": [
    "df_titanic['Sex_male'] = male['Sex_male']\n",
    "df_titanic.head()"
   ]
  },
  {
   "cell_type": "markdown",
   "id": "8454077a",
   "metadata": {},
   "source": [
    "## Classification Tree\n",
    "For details see: https://scikit-learn.org/stable/modules/generated/sklearn.tree.DecisionTreeClassifier.html"
   ]
  },
  {
   "cell_type": "markdown",
   "id": "33fdc652",
   "metadata": {},
   "source": [
    "### Create train and test samples (train = 80%, test = 20% of the data)"
   ]
  },
  {
   "cell_type": "code",
   "execution_count": null,
   "id": "9ede480d",
   "metadata": {},
   "outputs": [],
   "source": [
    "# Create train and test samples\n",
    "X_train, X_test, y_train, y_test = train_test_split(df_titanic[['Age', \n",
    "                                                                'Sex_male',\n",
    "                                                                'Pclass',\n",
    "                                                                'Fare']], \n",
    "                                                                df_titanic['Survived'], \n",
    "                                                                test_size=0.20, \n",
    "                                                                random_state=42)\n",
    "\n",
    "# Show X_train\n",
    "print('X_train:')\n",
    "print(X_train.head(), '\\n')\n",
    "\n",
    "# Show y_train\n",
    "print('y_train:')\n",
    "print(y_train.head())"
   ]
  },
  {
   "cell_type": "markdown",
   "id": "d6cff87c",
   "metadata": {},
   "source": [
    "### Fit the classification tree model and make predictions"
   ]
  },
  {
   "cell_type": "code",
   "execution_count": null,
   "id": "db24f230",
   "metadata": {},
   "outputs": [],
   "source": [
    "# Initialize the classification tree model \n",
    "clf = DecisionTreeClassifier(random_state=20, \n",
    "                             max_depth=3)\n",
    "\n",
    "# Train the classification tree model \n",
    "clf = clf.fit(X_train, y_train)\n",
    "\n",
    "# Make model predictions\n",
    "y_pred = clf.predict(X_test)\n",
    "y_pred"
   ]
  },
  {
   "cell_type": "markdown",
   "id": "a28a20dd",
   "metadata": {},
   "source": [
    "### Show confusion matrix and classification report"
   ]
  },
  {
   "cell_type": "code",
   "execution_count": null,
   "id": "de5355f0",
   "metadata": {},
   "outputs": [],
   "source": [
    "# Confusion matrix\n",
    "print('Confusion matrix')\n",
    "print(confusion_matrix(y_test, y_pred), '\\n')\n",
    "\n",
    "# Classification report\n",
    "print('Classification report')\n",
    "print(classification_report(y_test, y_pred))"
   ]
  },
  {
   "cell_type": "markdown",
   "id": "9937202a",
   "metadata": {},
   "source": [
    "### Print text representation of the classification tree"
   ]
  },
  {
   "cell_type": "code",
   "execution_count": null,
   "id": "4ffdb05f",
   "metadata": {},
   "outputs": [],
   "source": [
    "# Text representation of the classification tree\n",
    "text_rep = tree.export_text(clf, \n",
    "                            feature_names=list(X_train.columns))\n",
    "\n",
    "# Print text_representation\n",
    "print(text_rep)"
   ]
  },
  {
   "cell_type": "markdown",
   "id": "381947af",
   "metadata": {},
   "source": [
    "## Visualize the classification tree"
   ]
  },
  {
   "cell_type": "code",
   "execution_count": null,
   "id": "85f22840",
   "metadata": {},
   "outputs": [],
   "source": [
    "# For the meaning of numbers in boxes see root node\n",
    "fig = plt.figure(figsize=(12,5))\n",
    "tree_plot = tree.plot_tree(clf, \n",
    "                   feature_names=list(X_train.columns),  \n",
    "                   class_names=['not survived', 'survived'],\n",
    "                   filled=True,\n",
    "                   fontsize=10,\n",
    "                   label='root')"
   ]
  },
  {
   "cell_type": "markdown",
   "id": "55281fec",
   "metadata": {},
   "source": [
    "## Random Forest Classifier\n",
    "For details see: https://scikit-learn.org/stable/modules/generated/sklearn.ensemble.RandomForestClassifier.html"
   ]
  },
  {
   "cell_type": "markdown",
   "id": "5123f45e",
   "metadata": {},
   "source": [
    "### Create train and test samples (train = 80%, test = 20% of the data)"
   ]
  },
  {
   "cell_type": "code",
   "execution_count": null,
   "id": "7141b2d8",
   "metadata": {},
   "outputs": [],
   "source": [
    "# Create train and test samples\n",
    "X2_train, X2_test, y2_train, y2_test = train_test_split(df_titanic[['Age', \n",
    "                                                                    'Sex_male',\n",
    "                                                                    'Pclass',\n",
    "                                                                    'Fare']], \n",
    "                                                        df_titanic['Survived'], \n",
    "                                                        test_size=0.20, \n",
    "                                                        random_state=42)\n",
    "\n",
    "# Show X2_train\n",
    "print('X2_train:')\n",
    "print(X2_train.head(), '\\n')\n",
    "\n",
    "# Show y2_train\n",
    "print('y2_train:')\n",
    "print(y2_train.head())"
   ]
  },
  {
   "cell_type": "markdown",
   "id": "db15ac37",
   "metadata": {},
   "source": [
    "### Fit the Random Forest Classifier"
   ]
  },
  {
   "cell_type": "code",
   "execution_count": null,
   "id": "3bd21de8",
   "metadata": {},
   "outputs": [],
   "source": [
    "# Initialize the random forest classifier\n",
    "rfc = RandomForestClassifier(random_state=20, max_depth=10)\n",
    "\n",
    "# Train the random forest classifier\n",
    "rfc = rfc.fit(X2_train, y2_train)\n",
    "\n",
    "# Predict the target variable (0 = not survived, 1 = survived)\n",
    "y_pred_rf = rfc.predict(X2_test)\n",
    "\n",
    "print('Predicted target variable (0 = not survived, 1 = survived)')\n",
    "y_pred_rf"
   ]
  },
  {
   "cell_type": "markdown",
   "id": "81eefb08",
   "metadata": {},
   "source": [
    "### Show confusion matrix and classification report"
   ]
  },
  {
   "cell_type": "code",
   "execution_count": null,
   "id": "f8f171ff",
   "metadata": {},
   "outputs": [],
   "source": [
    "# Confusion matrix\n",
    "print('Confusion matrix')\n",
    "print(confusion_matrix(y2_test, y_pred_rf), '\\n')\n",
    "\n",
    "# Classification report\n",
    "print('Classification report')\n",
    "print(classification_report(y2_test, y_pred_rf))"
   ]
  },
  {
   "cell_type": "markdown",
   "id": "dcba715c",
   "metadata": {},
   "source": [
    "### Show feature importance"
   ]
  },
  {
   "cell_type": "code",
   "execution_count": null,
   "id": "a566ca03",
   "metadata": {},
   "outputs": [],
   "source": [
    "cols = X2_train.columns\n",
    "\n",
    "# Derive feature importance from random forest\n",
    "importances = rfc.feature_importances_\n",
    "std = np.std([tree.feature_importances_ for tree in rfc.estimators_], axis=0)\n",
    "indices = np.argsort(importances)[::-1]\n",
    "\n",
    "# Print col-names and importances-values\n",
    "print( cols[indices] )\n",
    "print( importances[indices] )\n",
    "\n",
    "# Barplot with feature importance\n",
    "df_fi = pd.DataFrame({'features':cols,'importances': importances})\n",
    "df_fi.sort_values('importances', inplace=True)\n",
    "df_fi.plot(kind='barh', \n",
    "           y='importances', \n",
    "           x='features', \n",
    "           color='darkred', \n",
    "           figsize=(6,3))"
   ]
  },
  {
   "cell_type": "markdown",
   "id": "f0039738",
   "metadata": {},
   "source": [
    "### ROC curve and AUC"
   ]
  },
  {
   "cell_type": "code",
   "execution_count": null,
   "id": "410b176f",
   "metadata": {},
   "outputs": [],
   "source": [
    "# Plot ROC curve and calculate AUC\n",
    "plt.figure(figsize=(6,4))\n",
    "ax = plt.gca()\n",
    "rfc_disp = RocCurveDisplay.from_estimator(rfc, \n",
    "                                          X2_test, \n",
    "                                          y2_test, \n",
    "                                          ax=ax,\n",
    "                                          alpha=0.8,\n",
    "                                          c=\"darkred\")\n",
    "plt.show()"
   ]
  },
  {
   "cell_type": "markdown",
   "id": "387bd5b3",
   "metadata": {},
   "source": [
    "### Jupyter notebook --footer info-- (please always provide this at the end of each submitted notebook)"
   ]
  },
  {
   "cell_type": "code",
   "execution_count": null,
   "id": "c933c713",
   "metadata": {},
   "outputs": [],
   "source": [
    "import os\n",
    "import platform\n",
    "import socket\n",
    "from platform import python_version\n",
    "from datetime import datetime\n",
    "\n",
    "print('-----------------------------------')\n",
    "print(os.name.upper())\n",
    "print(platform.system(), '|', platform.release())\n",
    "print('Datetime:', datetime.now().strftime(\"%Y-%m-%d %H:%M:%S\"))\n",
    "print('Python Version:', python_version())\n",
    "print('-----------------------------------')"
   ]
  }
 ],
 "metadata": {
  "kernelspec": {
   "display_name": "Python 3 (ipykernel)",
   "language": "python",
   "name": "python3"
  },
  "language_info": {
   "codemirror_mode": {
    "name": "ipython",
    "version": 3
   },
   "file_extension": ".py",
   "mimetype": "text/x-python",
   "name": "python",
   "nbconvert_exporter": "python",
   "pygments_lexer": "ipython3",
   "version": "3.10.13"
  }
 },
 "nbformat": 4,
 "nbformat_minor": 5
}
