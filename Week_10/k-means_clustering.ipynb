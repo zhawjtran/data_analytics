{
 "cells": [
  {
   "cell_type": "markdown",
   "id": "fa7cbc2e",
   "metadata": {},
   "source": [
    "# k-means Clustering"
   ]
  },
  {
   "cell_type": "markdown",
   "id": "9548d6c4",
   "metadata": {},
   "source": [
    "## Table of contents\n",
    "\n",
    "[1.) Simple k-means clustering example](#section_1)<br>\n",
    "[2.) Image segmentation](#section_2)<br>\n",
    "[3.) 3D point cloud segmentation](#section_3)<br>\n",
    "[4.) Finding clusters in the apartment data](#section_4)"
   ]
  },
  {
   "cell_type": "markdown",
   "id": "ae7f0b10",
   "metadata": {},
   "source": [
    "## Libraries and settings"
   ]
  },
  {
   "cell_type": "code",
   "execution_count": null,
   "id": "3827b856",
   "metadata": {
    "scrolled": false
   },
   "outputs": [],
   "source": [
    "# Install opencv-python-headless (neccessary in GitHub Codespaces)\n",
    "!pip install --upgrade pip\n",
    "!pip install opencv-python-headless\n",
    "\n",
    "# Libraries\n",
    "import os\n",
    "import cv2\n",
    "import numpy as np\n",
    "import pandas as pd\n",
    "import matplotlib.pyplot as plt\n",
    "\n",
    "from sklearn.cluster import KMeans\n",
    "from sklearn.datasets import make_blobs\n",
    "from sklearn.metrics import silhouette_score\n",
    "from sklearn.preprocessing import StandardScaler\n",
    "\n",
    "# Ignore warnings\n",
    "import warnings\n",
    "warnings.filterwarnings('ignore')\n",
    "\n",
    "# Current working directory\n",
    "print('\\nCurrent working directory:', os.getcwd())"
   ]
  },
  {
   "cell_type": "markdown",
   "id": "53e85a35",
   "metadata": {},
   "source": [
    "## 1.) Simple k-means clustering example\n",
    "<a id='section_1'></a>"
   ]
  },
  {
   "cell_type": "markdown",
   "id": "6bd77423",
   "metadata": {},
   "source": [
    "### Create the dataset"
   ]
  },
  {
   "cell_type": "code",
   "execution_count": null,
   "id": "d18120e6",
   "metadata": {
    "scrolled": false
   },
   "outputs": [],
   "source": [
    "# Create data\n",
    "centers = [[2,1], [-2,2], [-2,-2], [-4,-5], [5,7]]\n",
    "X, y = make_blobs(n_samples=300, \n",
    "                  centers=centers, \n",
    "                  cluster_std=0.8,\n",
    "                  random_state=42)\n",
    "\n",
    "# Normalization of the values\n",
    "X = StandardScaler().fit_transform(X)\n",
    "\n",
    "# Plot the data\n",
    "plt.figure(figsize=(6,4))\n",
    "plt.scatter(X[:,0], X[:,1], s=10, color='darkred')\n",
    "plt.show()"
   ]
  },
  {
   "cell_type": "markdown",
   "id": "bf85eb1a",
   "metadata": {},
   "source": [
    "### Elbow Method showing the optimal k"
   ]
  },
  {
   "cell_type": "code",
   "execution_count": null,
   "id": "704ae515",
   "metadata": {
    "scrolled": false
   },
   "outputs": [],
   "source": [
    "# Sum of squared distances of samples to their closest cluster center\n",
    "distortions = []\n",
    "\n",
    "# Range of k's\n",
    "K = range(1,16,1)\n",
    "\n",
    "# Loop to find the optimal k\n",
    "for k in K:\n",
    "    kmeanModel = KMeans(n_clusters=k)\n",
    "    kmeanModel.fit(X)\n",
    "    distortions.append(kmeanModel.inertia_)\n",
    "    \n",
    "# Elbow plot\n",
    "plt.figure(figsize=(5,3))\n",
    "plt.plot(K, distortions, 'bx-')\n",
    "plt.xlabel('k')\n",
    "plt.ylabel('Distortion')\n",
    "plt.title('The Elbow Method showing the optimal k')\n",
    "\n",
    "plt.show()"
   ]
  },
  {
   "cell_type": "markdown",
   "id": "cd23ef32",
   "metadata": {},
   "source": [
    "### Perform k-means clustering"
   ]
  },
  {
   "cell_type": "code",
   "execution_count": null,
   "id": "b4cf88ce",
   "metadata": {
    "scrolled": false
   },
   "outputs": [],
   "source": [
    "# Number of clusters\n",
    "k = 5\n",
    "\n",
    "# k-means clustering\n",
    "kmeans = KMeans(n_clusters=k, random_state=42).fit(X)\n",
    "\n",
    "# Predict the values\n",
    "y2 = kmeans.predict(X)\n",
    "\n",
    "# Plot the clusters\n",
    "plt.figure(figsize=(6,4))\n",
    "plt.scatter(X[:, 0], X[:, 1], c=y2, s=10)\n",
    "plt.show()"
   ]
  },
  {
   "cell_type": "markdown",
   "id": "ef51a7aa",
   "metadata": {},
   "source": [
    "### Get and check the converged cluster centroids"
   ]
  },
  {
   "cell_type": "code",
   "execution_count": null,
   "id": "afb09dba",
   "metadata": {
    "scrolled": false
   },
   "outputs": [],
   "source": [
    "# Print centroids\n",
    "centroids = kmeans.cluster_centers_\n",
    "print('Cluster centroids:')\n",
    "print(centroids, '\\n')\n",
    "\n",
    "# Check the 1st cluster's centroid 'by hand'\n",
    "clust_00 = X[y2 == 0]\n",
    "print('The 1st cluster\\'s centroid:')\n",
    "print(f'x = {sum(clust_00[:,0]/len(clust_00[:,0])):.8f}')\n",
    "print(f'y = {sum(clust_00[:,1]/len(clust_00[:,1])):.8f}')"
   ]
  },
  {
   "cell_type": "markdown",
   "id": "1f954298",
   "metadata": {},
   "source": [
    "### Get the inertia or 'within-cluster sum-of-squares (WCSS)' of the k-means model"
   ]
  },
  {
   "cell_type": "code",
   "execution_count": null,
   "id": "fcb04bce",
   "metadata": {},
   "outputs": [],
   "source": [
    "print(f'Within-cluster sum-of-squares: {kmeans.inertia_:.4f}')"
   ]
  },
  {
   "cell_type": "markdown",
   "id": "6e61bc4f",
   "metadata": {},
   "source": [
    "### Perform Silhouette Analysis\n",
    "- For examples see:\n",
    "- https://laid-back-scientist.com/en/k-means\n",
    "- https://machinelearninggeek.com/evaluating-clustering-methods\n",
    "- https://medium.com/@favourphilic/how-to-interpret-silhouette-plot-for-k-means-clustering-414e144a17fe"
   ]
  },
  {
   "cell_type": "code",
   "execution_count": null,
   "id": "9b04f45b",
   "metadata": {
    "scrolled": false
   },
   "outputs": [],
   "source": [
    "# Import own module for Silhouette plots\n",
    "from silhouette import *\n",
    "\n",
    "# Create Silhouette plots for different k's\n",
    "# Note: range(2,12,1) provides: [2, 3, 4, 5, 6, 7, 8, 9, 10, 11]\n",
    "for i in [2,3]:\n",
    "    model = KMeans(n_clusters=i, \n",
    "                   random_state=42, \n",
    "                   init='random')\n",
    "    model.fit(X)\n",
    "    print(f'k={i}, Silhouette Score: {silhouette_score(X, model.labels_):.4f}')\n",
    "    plt.figure(figsize=(6,3))\n",
    "    show_silhouette(X=X, fitted_model=model)"
   ]
  },
  {
   "cell_type": "markdown",
   "id": "d91df109",
   "metadata": {},
   "source": [
    "## 2.) Image segmentation\n",
    "<a id='section_2'></a>"
   ]
  },
  {
   "cell_type": "markdown",
   "id": "1979c630",
   "metadata": {},
   "source": [
    "### Read the image"
   ]
  },
  {
   "cell_type": "code",
   "execution_count": null,
   "id": "a987861c",
   "metadata": {
    "scrolled": false
   },
   "outputs": [],
   "source": [
    "# Read the image\n",
    "image = cv2.imread('parrot.jpg')\n",
    " \n",
    "# Change the color to RGB (from BGR)\n",
    "image = cv2.cvtColor(image, cv2.COLOR_BGR2RGB)\n",
    "\n",
    "# Plot the image\n",
    "plt.figure(figsize=(6,8))\n",
    "plt.imshow(image)"
   ]
  },
  {
   "cell_type": "markdown",
   "id": "b97b4d60",
   "metadata": {},
   "source": [
    "### Reshape the image"
   ]
  },
  {
   "cell_type": "code",
   "execution_count": null,
   "id": "349a00f6",
   "metadata": {
    "scrolled": false
   },
   "outputs": [],
   "source": [
    "# Reshaping the image into a 2D array of pixels and RGB colors\n",
    "pixel_vals = image.reshape((-1,3))\n",
    " \n",
    "# Convert to float\n",
    "pixel_vals = np.float32(pixel_vals)\n",
    "pixel_vals"
   ]
  },
  {
   "cell_type": "markdown",
   "id": "60a9994a",
   "metadata": {},
   "source": [
    "### Elbow method showing the optimal k"
   ]
  },
  {
   "cell_type": "code",
   "execution_count": null,
   "id": "2a9732ca",
   "metadata": {
    "scrolled": false
   },
   "outputs": [],
   "source": [
    "# Sum of squared distances of samples to their closest cluster center\n",
    "distortions = []\n",
    "\n",
    "# Range of k's\n",
    "K = range(2,10,1)\n",
    "\n",
    "# Loop to find the optimal k\n",
    "for k in K:\n",
    "    kmeanModel = KMeans(n_clusters=k)\n",
    "    kmeanModel.fit(pixel_vals)\n",
    "    distortions.append(kmeanModel.inertia_)\n",
    "    \n",
    "# Elbow plot\n",
    "plt.figure(figsize=(5,3))\n",
    "plt.plot(K, distortions, 'bx-')\n",
    "plt.xlabel('k')\n",
    "plt.ylabel('Distortion')\n",
    "plt.title('The Elbow method showing the optimal k')\n",
    "\n",
    "plt.show()"
   ]
  },
  {
   "cell_type": "markdown",
   "id": "a310c56d",
   "metadata": {},
   "source": [
    "### Perform image segmentation"
   ]
  },
  {
   "cell_type": "code",
   "execution_count": null,
   "id": "e4a5616d",
   "metadata": {
    "scrolled": false
   },
   "outputs": [],
   "source": [
    "# Number of clusters\n",
    "k = 5\n",
    "\n",
    "# Criteria for the segmentation algorithm to stop running\n",
    "criteria = (cv2.TERM_CRITERIA_EPS + cv2.TERM_CRITERIA_MAX_ITER, 100, 0.85)\n",
    " \n",
    "# Perform k-means clustering\n",
    "retval, labels, centers = cv2.kmeans(pixel_vals, \n",
    "                                     k, \n",
    "                                     None, \n",
    "                                     criteria, \n",
    "                                     10, \n",
    "                                     cv2.KMEANS_RANDOM_CENTERS)\n",
    "\n",
    "# Print cluster labels\n",
    "print('Cluster labels:')\n",
    "print(labels, '\\n')\n",
    "\n",
    "# Print cluster centroids\n",
    "print(f'Centroids of {k} clusters')\n",
    "print(centers)"
   ]
  },
  {
   "cell_type": "markdown",
   "id": "50823a7f",
   "metadata": {},
   "source": [
    "### Change data types and reshape the segmented data for visualization"
   ]
  },
  {
   "cell_type": "code",
   "execution_count": null,
   "id": "61f46243",
   "metadata": {
    "scrolled": false
   },
   "outputs": [],
   "source": [
    "# Convert data into 8-bit values\n",
    "centers = np.uint8(centers)\n",
    "segmented_data = centers[labels.flatten()]\n",
    " \n",
    "# Reshape data into the original image dimensions\n",
    "segmented_image = segmented_data.reshape((image.shape))\n",
    "\n",
    "# Show result\n",
    "plt.figure(figsize=(6,8))\n",
    "plt.imshow(segmented_image)"
   ]
  },
  {
   "cell_type": "markdown",
   "id": "916000a4",
   "metadata": {},
   "source": [
    "## 3.) 3D point cloud segmentation\n",
    "- For details see: https://towardsdatascience.com/3d-point-cloud-clustering-tutorial-with-k-means-and-python-c870089f3af8\n",
    "- Data-Viewer: https://app.flyvast.com/flyvast/app/page-snapshot-viewer.html#/444/9b557b91-8f41-16fa-cd2d-3476a1756611\n",
    "<a id='section_3'></a>"
   ]
  },
  {
   "cell_type": "markdown",
   "id": "1cfcd555",
   "metadata": {},
   "source": [
    "### Import the data (Airport LIDAR point cloud dataset)"
   ]
  },
  {
   "cell_type": "code",
   "execution_count": null,
   "id": "bfad343b",
   "metadata": {
    "scrolled": false
   },
   "outputs": [],
   "source": [
    "# Import the data\n",
    "data = \"KME_planes.xyz\"\n",
    "x, y, z, illuminance, reflectance, intensity, nb_of_returns = np.loadtxt(data,\n",
    "                                                                         skiprows=1, \n",
    "                                                                         delimiter=';', \n",
    "                                                                         unpack=True)\n",
    "# Array with positions of points\n",
    "pcd = np.column_stack((x,y,z))\n",
    "\n",
    "# Mean of z-variable (height above ground)\n",
    "print(np.mean(z).round(4))\n",
    "\n",
    "# Subset of the point cloud \n",
    "mask = (z > np.mean(z)) & (x <= 320) & (x >= 230)\n",
    "spatial_query = pcd[mask]\n",
    "spatial_query.shape"
   ]
  },
  {
   "cell_type": "markdown",
   "id": "78721951",
   "metadata": {},
   "source": [
    "### 3D plot of the point cloud subset"
   ]
  },
  {
   "cell_type": "code",
   "execution_count": null,
   "id": "49808e58",
   "metadata": {
    "scrolled": false
   },
   "outputs": [],
   "source": [
    "# 3D plot of the subset\n",
    "plt.figure(figsize=(5,5))\n",
    "ax = plt.axes(projection ='3d')\n",
    "ax.scatter(x[mask], y[mask], z[mask], c=intensity[mask], s=0.5)\n",
    "plt.show()"
   ]
  },
  {
   "cell_type": "markdown",
   "id": "b77f63de",
   "metadata": {},
   "source": [
    "### 2D plot of the point cloud subset"
   ]
  },
  {
   "cell_type": "code",
   "execution_count": null,
   "id": "b9127e87",
   "metadata": {
    "scrolled": false
   },
   "outputs": [],
   "source": [
    "# 2D plot of the subset\n",
    "plt.figure(figsize=(4,4))\n",
    "plt.scatter(x[mask], y[mask], c=intensity[mask], s=0.5)\n",
    "plt.show()"
   ]
  },
  {
   "cell_type": "markdown",
   "id": "0bf6c5fd",
   "metadata": {},
   "source": [
    "### Elbow method showing the optimal k"
   ]
  },
  {
   "cell_type": "code",
   "execution_count": null,
   "id": "9a896387",
   "metadata": {
    "scrolled": false
   },
   "outputs": [],
   "source": [
    "# Sum of squared distances of samples to their closest cluster center\n",
    "distortions = []\n",
    "\n",
    "# Range of k's\n",
    "K = range(2,15,1)\n",
    "\n",
    "# Loop to find the optimal k\n",
    "for k in K:\n",
    "    kmeanModel = KMeans(n_clusters=k)\n",
    "    kmeanModel.fit(spatial_query)\n",
    "    distortions.append(kmeanModel.inertia_)\n",
    "    \n",
    "# Elbow plot\n",
    "plt.figure(figsize=(5,3))\n",
    "plt.plot(K, distortions, 'bx-')\n",
    "plt.xlabel('k')\n",
    "plt.ylabel('Distortion')\n",
    "plt.title('The Elbow Method showing the optimal k')\n",
    "\n",
    "plt.show()"
   ]
  },
  {
   "cell_type": "markdown",
   "id": "f9205e0b",
   "metadata": {},
   "source": [
    "### Point cloud segmentation based on k-means clustering"
   ]
  },
  {
   "cell_type": "code",
   "execution_count": null,
   "id": "472a8b38",
   "metadata": {
    "scrolled": false
   },
   "outputs": [],
   "source": [
    "# Define number of clusters\n",
    "k = 5\n",
    "\n",
    "# Stack with x,y,z values\n",
    "X2 = np.column_stack((x[mask], y[mask], z[mask]))\n",
    "\n",
    "# Perform k-means clustering\n",
    "kmeans_aerpl = KMeans(n_clusters=k, random_state=42).fit(X2)"
   ]
  },
  {
   "cell_type": "markdown",
   "id": "6d7c48fd",
   "metadata": {},
   "source": [
    "### 2D plot of the segmented point cloud"
   ]
  },
  {
   "cell_type": "code",
   "execution_count": null,
   "id": "345ad736",
   "metadata": {
    "scrolled": false
   },
   "outputs": [],
   "source": [
    "# 2D plot of image segmentation\n",
    "plt.figure(figsize=(4,4))\n",
    "plt.scatter(x[mask], y[mask], c=kmeans_aerpl.labels_, s = 0.1)\n",
    "plt.show()"
   ]
  },
  {
   "cell_type": "markdown",
   "id": "2614c016",
   "metadata": {},
   "source": [
    "### 3D plot of the segmented point cloud"
   ]
  },
  {
   "cell_type": "code",
   "execution_count": null,
   "id": "8481082d",
   "metadata": {
    "scrolled": false
   },
   "outputs": [],
   "source": [
    "# 3D plot of image segmentation\n",
    "plt.figure(figsize=(5,5))\n",
    "ax = plt.axes(projection ='3d')\n",
    "ax.scatter(x[mask], y[mask], z[mask], c=kmeans_aerpl.labels_, s=0.1)\n",
    "plt.show()"
   ]
  },
  {
   "cell_type": "markdown",
   "id": "e8e2149e",
   "metadata": {},
   "source": [
    "### Calculate the Silhouette Score"
   ]
  },
  {
   "cell_type": "code",
   "execution_count": null,
   "id": "38a8ab4c",
   "metadata": {
    "scrolled": false
   },
   "outputs": [],
   "source": [
    "print(f'Silhouette Score: {silhouette_score(X2, kmeans_aerpl.labels_):.4f}')"
   ]
  },
  {
   "cell_type": "markdown",
   "id": "4f48237c",
   "metadata": {},
   "source": [
    "## 4.) Finding clusters in the apartment data\n",
    "<a id='section_4'></a>"
   ]
  },
  {
   "cell_type": "markdown",
   "id": "dc8a9f13",
   "metadata": {},
   "source": [
    "### Import the apartment data"
   ]
  },
  {
   "cell_type": "code",
   "execution_count": null,
   "id": "0f76fa14",
   "metadata": {
    "scrolled": false
   },
   "outputs": [],
   "source": [
    "# Define columns for import\n",
    "columns = [ 'web-scraper-order',\n",
    "            'address_raw',\n",
    "            'rooms',\n",
    "            'area',\n",
    "            'luxurious',\n",
    "            'price',\n",
    "            'price_per_m2',\n",
    "            'lat',\n",
    "            'lon',\n",
    "            'bfs_number',\n",
    "            'bfs_name',\n",
    "            'pop',\n",
    "            'pop_dens',\n",
    "            'frg_pct',\n",
    "            'emp',\n",
    "            'mean_taxable_income',\n",
    "            'dist_supermarket']\n",
    "\n",
    "# Read and select variables\n",
    "df_orig = pd.read_csv(\"apartments_data_enriched_cleaned.csv\", sep=\";\", encoding='utf-8')[columns]\n",
    "\n",
    "# Rename variable 'web-scraper-order' to 'apmt_id'\n",
    "df_orig = df_orig.rename(columns={'web-scraper-order': 'id'})\n",
    "\n",
    "# Remove missing values\n",
    "df = df_orig.dropna()\n",
    "df.head(5)\n",
    "\n",
    "# Remove duplicates\n",
    "df = df.drop_duplicates()\n",
    "\n",
    "# Remove some 'extreme' values\n",
    "df = df.loc[(df['price'] >= 1000) & \n",
    "            (df['price'] <= 5000)]\n",
    "\n",
    "print(df.shape)\n",
    "df.head(5)"
   ]
  },
  {
   "cell_type": "markdown",
   "id": "a77bfb8b",
   "metadata": {},
   "source": [
    "### Subset of the apartment data frame for k-means clustering"
   ]
  },
  {
   "cell_type": "code",
   "execution_count": null,
   "id": "e7824168",
   "metadata": {
    "scrolled": false
   },
   "outputs": [],
   "source": [
    "# Define a subset of the data frame for k-means clustering\n",
    "X3 = df[['rooms',\n",
    "         'area',\n",
    "         'price_per_m2']]"
   ]
  },
  {
   "cell_type": "markdown",
   "id": "1bf1bce5",
   "metadata": {},
   "source": [
    "### Elbow method showing the optimal k"
   ]
  },
  {
   "cell_type": "code",
   "execution_count": null,
   "id": "3b306657",
   "metadata": {
    "scrolled": false
   },
   "outputs": [],
   "source": [
    "# Sum of squared distances of samples to their closest cluster center\n",
    "distortions = []\n",
    "\n",
    "# Range of k's\n",
    "K = range(1,15)\n",
    "\n",
    "# Loop to find the optimal k\n",
    "for k in K:\n",
    "    kmeanModel = KMeans(n_clusters=k)\n",
    "    kmeanModel.fit(X3)\n",
    "    distortions.append(kmeanModel.inertia_)\n",
    "    \n",
    "# Elbow plot\n",
    "plt.figure(figsize=(5,3))\n",
    "plt.plot(K, distortions, 'bx-')\n",
    "plt.xlabel('k')\n",
    "plt.ylabel('Distortion')\n",
    "plt.title('The Elbow Method showing the optimal k')\n",
    "\n",
    "plt.show()"
   ]
  },
  {
   "cell_type": "markdown",
   "id": "3f8a2cd2",
   "metadata": {},
   "source": [
    "### Perform k-means clustering on the apartment data"
   ]
  },
  {
   "cell_type": "code",
   "execution_count": null,
   "id": "e92617d5",
   "metadata": {
    "scrolled": false
   },
   "outputs": [],
   "source": [
    "# Number of clusters\n",
    "k = 5\n",
    "\n",
    "# Perform k-means clustering\n",
    "kmeans_apmts = KMeans(n_clusters=k, random_state=42).fit(X3)\n",
    "\n",
    "# Add the clusters to data frame\n",
    "X3['cluster'] = kmeans_apmts.predict(X3)\n",
    "\n",
    "# Show number of apartments per cluster\n",
    "X3['cluster'].value_counts().sort_values(ascending=False)"
   ]
  },
  {
   "cell_type": "markdown",
   "id": "594f4a54",
   "metadata": {},
   "source": [
    "### Plot the apartment clusters"
   ]
  },
  {
   "cell_type": "code",
   "execution_count": null,
   "id": "29a0fc2e",
   "metadata": {
    "scrolled": false
   },
   "outputs": [],
   "source": [
    "fig = plt.figure(figsize=(6,5))\n",
    "ax = fig.add_subplot(111, projection='3d')\n",
    "ax.scatter(df['rooms'], df['area'], df['price_per_m2'], c=kmeans_apmts.labels_, s=4)\n",
    "\n",
    "# Set title and axes labels\n",
    "ax.set_title('Apartment data clusters', fontsize=12)\n",
    "ax.set_xlabel('rooms', fontsize=10)\n",
    "ax.set_ylabel('area', fontsize=10)\n",
    "ax.set_zlabel('price_per_m2', fontsize=10)\n",
    "\n",
    "# Set axes range\n",
    "ax.set_xlim([0,9])\n",
    "ax.set_ylim([0,150])\n",
    "ax.set_zlim([20,100])\n",
    "\n",
    "plt.show()"
   ]
  },
  {
   "cell_type": "markdown",
   "id": "107fac6e",
   "metadata": {},
   "source": [
    "### Calculate the Silhouette Score"
   ]
  },
  {
   "cell_type": "code",
   "execution_count": null,
   "id": "b0a8c461",
   "metadata": {
    "scrolled": false
   },
   "outputs": [],
   "source": [
    "print(f'Silhouette Score: {silhouette_score(X3, kmeans_apmts.labels_):.4f}')"
   ]
  },
  {
   "cell_type": "markdown",
   "id": "5280d042",
   "metadata": {},
   "source": [
    "### Jupyter notebook --footer info-- (please always provide this at the end of each submitted notebook)"
   ]
  },
  {
   "cell_type": "code",
   "execution_count": null,
   "id": "9c0f813a",
   "metadata": {
    "scrolled": false
   },
   "outputs": [],
   "source": [
    "import os\n",
    "import platform\n",
    "import socket\n",
    "from platform import python_version\n",
    "from datetime import datetime\n",
    "\n",
    "print('-----------------------------------')\n",
    "print(os.name.upper())\n",
    "print(platform.system(), '|', platform.release())\n",
    "print('Datetime:', datetime.now().strftime(\"%Y-%m-%d %H:%M:%S\"))\n",
    "print('Python Version:', python_version())\n",
    "print('-----------------------------------')"
   ]
  }
 ],
 "metadata": {
  "kernelspec": {
   "display_name": "Python 3 (ipykernel)",
   "language": "python",
   "name": "python3"
  },
  "language_info": {
   "codemirror_mode": {
    "name": "ipython",
    "version": 3
   },
   "file_extension": ".py",
   "mimetype": "text/x-python",
   "name": "python",
   "nbconvert_exporter": "python",
   "pygments_lexer": "ipython3",
   "version": "3.10.13"
  }
 },
 "nbformat": 4,
 "nbformat_minor": 5
}
