{
 "cells": [
  {
   "cell_type": "markdown",
   "id": "aa3584ff",
   "metadata": {},
   "source": [
    "# Example (2): Creating a Neural Network to classify diabetic patients\n",
    "\n",
    "<img src=\"https://www.ndr.de/diabetes312_v-fullhd.jpg\" align=\"left\" width=\"600\">"
   ]
  },
  {
   "cell_type": "markdown",
   "id": "543edd40",
   "metadata": {},
   "source": [
    "<h3>The Problem</h3>\n",
    "<p>Suppose we have some information about obesity, smoking habits, and exercise habits of five people. We also know whether these people are diabetic or not. The dataset looks like this:</p>\n",
    "<table class=\"table table-striped\">\n",
    "    <thead>\n",
    "        <tr>\n",
    "            <th>Person</th>\n",
    "            <th>Smoking</th>\n",
    "            <th>Obesity</th>\n",
    "            <th>Exercise</th>\n",
    "            <th>Diabetic</th>\n",
    "        </tr>\n",
    "    </thead>\n",
    "    <tbody>\n",
    "        <tr>\n",
    "            <td>Person 1</td>\n",
    "            <td>0</td>\n",
    "            <td>1</td>\n",
    "            <td>0</td>\n",
    "            <td>1</td>\n",
    "        </tr>\n",
    "        <tr>\n",
    "            <td>Person 2</td>\n",
    "            <td>0</td>\n",
    "            <td>0</td>\n",
    "            <td>1</td>\n",
    "            <td>0</td>\n",
    "        </tr>\n",
    "        <tr>\n",
    "            <td>Person 3</td>\n",
    "            <td>1</td>\n",
    "            <td>0</td>\n",
    "            <td>0</td>\n",
    "            <td>0</td>\n",
    "        </tr>\n",
    "        <tr>\n",
    "            <td>Person 4</td>\n",
    "            <td>1</td>\n",
    "            <td>1</td>\n",
    "            <td>0</td>\n",
    "            <td>1</td>\n",
    "        </tr>\n",
    "        <tr>\n",
    "            <td>Person 5</td>\n",
    "            <td>1</td>\n",
    "            <td>1</td>\n",
    "            <td>1</td>\n",
    "            <td>1</td>\n",
    "        </tr>\n",
    "    </tbody>\n",
    "</table>\n",
    "<p>In this table, there are five columns: Person, Smoking, Obesity, Exercise, and Diabetic. Here 1 refers to true and 0 refers to false. For instance, the first person has values of 0, 1, 0 which means that the person doesn't smoke, is obese, and doesn't exercise. The person is also diabetic. It is clearly evident from the dataset that a person's obesity is indicative of him being diabetic. Our task is to create a neural network that is able to predict whether an unknown person is diabetic or not given data about his exercise habits, obesity, and smoking habits.</p>"
   ]
  },
  {
   "cell_type": "code",
   "execution_count": 1,
   "id": "d40ec173",
   "metadata": {},
   "outputs": [],
   "source": [
    "# Required libraries:\n",
    "# !pip install prettytable\n",
    "\n",
    "# Libraries\n",
    "import numpy as np\n",
    "import matplotlib.pyplot as plt\n",
    "from prettytable import PrettyTable\n",
    "\n",
    "# Function to generate pretty tables\n",
    "def generate_ascii_table(df):\n",
    "    x = PrettyTable()\n",
    "    x.field_names = df.columns.tolist()\n",
    "    for row in df.values:\n",
    "        x.add_row(row)\n",
    "    print(x)\n",
    "    return x\n",
    "\n",
    "# Activation function (sigmoid)\n",
    "def sigmoid(x):\n",
    "    return 1/(1+np.exp(-x))\n",
    "\n",
    "# Derivative of the activation function\n",
    "# -> When updating the curve, to know in which \n",
    "#    direction and how much to change or update \n",
    "#    the curve depending upon the slope.\n",
    "def sigmoid_der(x):\n",
    "    return sigmoid(x)*(1-sigmoid(x))"
   ]
  },
  {
   "cell_type": "code",
   "execution_count": 2,
   "id": "8907c060",
   "metadata": {
    "scrolled": true
   },
   "outputs": [
    {
     "name": "stdout",
     "output_type": "stream",
     "text": [
      "+---------+---------+----------+----------+\n",
      "| Smoking | Obesity | Exercise | Diabetic |\n",
      "+---------+---------+----------+----------+\n",
      "|    0    |    1    |    0     |    1     |\n",
      "|    0    |    0    |    1     |    0     |\n",
      "|    1    |    0    |    0     |    0     |\n",
      "|    1    |    1    |    0     |    1     |\n",
      "|    1    |    1    |    1     |    1     |\n",
      "+---------+---------+----------+----------+\n"
     ]
    }
   ],
   "source": [
    "# Data preparation\n",
    "import pandas as pd\n",
    "from prettytable import PrettyTable\n",
    "\n",
    "# Create data frame\n",
    "data = np.array([[0,1,0,1],[0,0,1,0],[1,0,0,0],[1,1,0,1],[1,1,1,1]])\n",
    "df   = pd.DataFrame(data, columns=['Smoking', 'Obesity', 'Exercise', 'Diabetic'])\n",
    "\n",
    "# Show table\n",
    "generate_ascii_table(df)\n",
    "\n",
    "# Matrix with features (X) and labels (y)\n",
    "X = data[0:5,0:3]\n",
    "y = data[0:5,3]\n",
    "y = y.reshape(5,1)"
   ]
  },
  {
   "cell_type": "code",
   "execution_count": 3,
   "id": "588aafff",
   "metadata": {},
   "outputs": [
    {
     "data": {
      "image/png": "[encoded data removed]",
      "text/plain": [
       "<Figure size 640x480 with 1 Axes>"
      ]
     },
     "metadata": {},
     "output_type": "display_data"
    }
   ],
   "source": [
    "# Show activation function and its derivative\n",
    "from matplotlib import pyplot as plt\n",
    "\n",
    "input = np.linspace(-10, 10, 100)\n",
    "plt.plot(input, sigmoid(input), color=\"green\")\n",
    "plt.plot(input, sigmoid(input)*(1-sigmoid(input)), color=\"orange\")\n",
    "plt.grid(color='gray', linestyle='-', linewidth=0.1)"
   ]
  },
  {
   "cell_type": "code",
   "execution_count": 4,
   "id": "9b11b5c7",
   "metadata": {},
   "outputs": [],
   "source": [
    "# Initialize weights and bias & define learning rate und the number of epochs\n",
    "np.random.seed(42)\n",
    "weights        = np.random.rand(3,1)\n",
    "bias           = np.random.rand(1)\n",
    "learning_rate  = 0.25\n",
    "num_epochs     = 200"
   ]
  },
  {
   "cell_type": "code",
   "execution_count": 5,
   "id": "12611686",
   "metadata": {},
   "outputs": [
    {
     "name": "stdout",
     "output_type": "stream",
     "text": [
      "X: \n",
      " [[0 1 0]\n",
      " [0 0 1]\n",
      " [1 0 0]\n",
      " [1 1 0]\n",
      " [1 1 1]] \n",
      "\n",
      "y: \n",
      " [[1]\n",
      " [0]\n",
      " [0]\n",
      " [1]\n",
      " [1]] \n",
      "\n",
      "weights: \n",
      " [[0.37454012]\n",
      " [0.95071431]\n",
      " [0.73199394]] \n",
      "\n",
      "bias: \n",
      " [0.59865848] \n",
      "\n",
      "XW: \n",
      " [[1.54937279]\n",
      " [1.33065243]\n",
      " [0.9731986 ]\n",
      " [1.92391291]\n",
      " [2.65590685]] \n",
      "\n",
      "sigmoid(XW) = z \n",
      " [[0.82482312]\n",
      " [0.79094853]\n",
      " [0.72575659]\n",
      " [0.87257414]\n",
      " [0.93437412]] \n",
      "\n",
      "error: \n",
      " [[-0.17517688]\n",
      " [ 0.79094853]\n",
      " [ 0.72575659]\n",
      " [-0.12742586]\n",
      " [-0.06562588]] \n",
      "\n",
      "sigmoid_der(z): \n",
      " [[0.21187385]\n",
      " [0.21464285]\n",
      " [0.21976804]\n",
      " [0.20785969]\n",
      " [0.20249263]] \n",
      "\n",
      "z_delta: \n",
      " [[-0.0371154 ]\n",
      " [ 0.16977145]\n",
      " [ 0.1594981 ]\n",
      " [-0.0264867 ]\n",
      " [-0.01328876]] \n",
      "\n",
      "adapted weights \n",
      " [[0.34460946]\n",
      " [0.96993702]\n",
      " [0.69287327]] \n",
      "\n",
      "adapted bias:\n",
      "[0.60793733]\n",
      "[0.56549447]\n",
      "[0.52561995]\n",
      "[0.53224162]\n",
      "[0.53556381]\n"
     ]
    }
   ],
   "source": [
    "# Calculations step by step\n",
    "\n",
    "# Inputs\n",
    "inputs = X\n",
    "\n",
    "# Print X, y, weights and bias\n",
    "print('X:', '\\n', inputs, '\\n')\n",
    "print('y:', '\\n', y, '\\n')\n",
    "print('weights:', '\\n', weights,'\\n')\n",
    "print('bias:', '\\n', bias,'\\n')\n",
    "\n",
    "# Calculate X * weigths + bias\n",
    "XW = np.dot(X, weights) + bias\n",
    "print('XW:', '\\n', XW, '\\n')\n",
    "\n",
    "# Apply activation function to XW\n",
    "z = sigmoid(XW)\n",
    "print('sigmoid(XW) = z', '\\n', z, '\\n')\n",
    "\n",
    "# Calculate the error (difference between labels and z)\n",
    "error = z - y\n",
    "print('error:', '\\n', error, '\\n')\n",
    "\n",
    "# Backpropagation (weights and bias adaptation)\n",
    "dcost_dpred = error\n",
    "dpred_dz    = sigmoid_der(z)\n",
    "print('sigmoid_der(z):', '\\n', dpred_dz, '\\n')\n",
    "\n",
    "# Calculate\n",
    "z_delta = dcost_dpred * dpred_dz\n",
    "print('z_delta:', '\\n', z_delta, '\\n')\n",
    "\n",
    "# Adapt weights\n",
    "inputs = X.T\n",
    "weights -= learning_rate * np.dot(inputs, z_delta)\n",
    "print('adapted weights', '\\n', weights, '\\n')\n",
    "\n",
    "print('adapted bias:')\n",
    "for num in z_delta:\n",
    "    bias -= learning_rate * num\n",
    "    print(bias)"
   ]
  },
  {
   "cell_type": "code",
   "execution_count": 6,
   "id": "ed847f3a",
   "metadata": {},
   "outputs": [
    {
     "name": "stderr",
     "output_type": "stream",
     "text": [
      "C:\\Users\\gell\\AppData\\Local\\Temp\\ipykernel_12880\\2286090579.py:11: UserWarning: Matplotlib is currently using module://matplotlib_inline.backend_inline, which is a non-GUI backend, so cannot show the figure.\n",
      "  fig.show()\n"
     ]
    },
    {
     "data": {
      "image/png": "[encoded data removed]",
      "text/plain": [
       "<Figure size 640x480 with 1 Axes>"
      ]
     },
     "metadata": {},
     "output_type": "display_data"
    }
   ],
   "source": [
    "# Neural network\n",
    "\n",
    "# Prepare figure\n",
    "fig = plt.figure()\n",
    "ax  = fig.add_subplot(111)\n",
    "ax.set_xlabel('Epoche')\n",
    "ax.set_ylabel('Error')\n",
    "plt.title('Error per Epoche')\n",
    "plt.ion()\n",
    "\n",
    "fig.show()\n",
    "fig.canvas.draw()\n",
    "\n",
    "#--------------------------------------\n",
    "# Loop with backpropagation\n",
    "#--------------------------------------\n",
    "\n",
    "# Initialize list\n",
    "d = []\n",
    "\n",
    "for epoch in range(num_epochs):\n",
    "    \n",
    "    inputs = X\n",
    "    \n",
    "    # Calculate (X * weigths) + bias\n",
    "    XW = np.dot(X, weights) + bias\n",
    "\n",
    "    # Apply activation function to XW\n",
    "    z = sigmoid(XW)\n",
    "\n",
    "    # Calculate the error (difference between label-value and z)\n",
    "    error = z - y\n",
    "    \n",
    "    # Store error in data frame\n",
    "    d.append(\n",
    "        {\n",
    "            'Epoch': epoch,\n",
    "            'Error': error.sum()\n",
    "        }\n",
    "    )\n",
    "    df = pd.DataFrame(d)\n",
    "\n",
    "    # Backpropagation (change weights and bias)\n",
    "    dcost_dpred = error\n",
    "    dpred_dz    = sigmoid_der(z)\n",
    "    z_delta     = dcost_dpred * dpred_dz\n",
    "\n",
    "    inputs      = X.T\n",
    "    weights    -= learning_rate * np.dot(inputs, z_delta)\n",
    "\n",
    "    for num in z_delta:\n",
    "        bias -= learning_rate * num\n",
    "\n",
    "    #-----------------------\n",
    "    # Plot error per epoche\n",
    "    #-----------------------\n",
    "    plt.xlim([0,num_epochs])\n",
    "    plt.ylim([0, df.Error[0]])\n",
    "    ax.plot(df.Epoch, df.Error)\n",
    "    fig.canvas.draw()"
   ]
  },
  {
   "cell_type": "code",
   "execution_count": 7,
   "id": "dd3c0dce",
   "metadata": {},
   "outputs": [
    {
     "name": "stdout",
     "output_type": "stream",
     "text": [
      "New Data (basis for prediction): \n",
      "\n",
      "+---------+---------+----------+\n",
      "| Smoking | Obesity | Exercise |\n",
      "+---------+---------+----------+\n",
      "|    0    |    1    |    0     |\n",
      "+---------+---------+----------+\n",
      "\n",
      " Predicted probability of having Diabetes: [[0.95602528]]\n"
     ]
    }
   ],
   "source": [
    "# Model-prediction based on new data\n",
    "data_new = np.array([[0,1,0]])\n",
    "df_new   = pd.DataFrame(data_new, columns=['Smoking', 'Obesity', 'Exercise'])\n",
    "\n",
    "print('New Data (basis for prediction):', '\\n')\n",
    "generate_ascii_table(df_new)\n",
    "\n",
    "# Calculate probability of having Diabetes\n",
    "result       = sigmoid(np.dot(data_new, weights) + bias)\n",
    "print('\\n', 'Predicted probability of having Diabetes:', result)"
   ]
  },
  {
   "cell_type": "markdown",
   "metadata": {},
   "source": [
    "### Jupyter notebook --footer info-- (please always provide this at the end of each submitted notebook)"
   ]
  },
  {
   "cell_type": "code",
   "execution_count": null,
   "metadata": {},
   "outputs": [],
   "source": [
    "import os\n",
    "import platform\n",
    "import socket\n",
    "from platform import python_version\n",
    "from datetime import datetime\n",
    "\n",
    "print('-----------------------------------')\n",
    "print(os.name.upper())\n",
    "print(platform.system(), '|', platform.release())\n",
    "print('Datetime:', datetime.now().strftime(\"%Y-%m-%d %H:%M:%S\"))\n",
    "print('Python Version:', python_version())\n",
    "print('-----------------------------------')"
   ]
  }
 ],
 "metadata": {
  "kernelspec": {
   "display_name": "Python 3 (ipykernel)",
   "language": "python",
   "name": "python3"
  },
  "language_info": {
   "codemirror_mode": {
    "name": "ipython",
    "version": 3
   },
   "file_extension": ".py",
   "mimetype": "text/x-python",
   "name": "python",
   "nbconvert_exporter": "python",
   "pygments_lexer": "ipython3",
   "version": "3.10.13"
  }
 },
 "nbformat": 4,
 "nbformat_minor": 5
}
